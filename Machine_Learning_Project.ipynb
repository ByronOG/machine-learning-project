{
  "nbformat": 4,
  "nbformat_minor": 0,
  "metadata": {
    "colab": {
      "provenance": [],
      "include_colab_link": true
    },
    "kernelspec": {
      "name": "python3",
      "display_name": "Python 3"
    },
    "language_info": {
      "name": "python"
    }
  },
  "cells": [
    {
      "cell_type": "markdown",
      "metadata": {
        "id": "view-in-github",
        "colab_type": "text"
      },
      "source": [
        "<a href=\"https://colab.research.google.com/github/ByronOG/machine-learning-project/blob/main/Machine_Learning_Project.ipynb\" target=\"_parent\"><img src=\"https://colab.research.google.com/assets/colab-badge.svg\" alt=\"Open In Colab\"/></a>"
      ]
    },
    {
      "cell_type": "code",
      "execution_count": null,
      "metadata": {
        "colab": {
          "base_uri": "https://localhost:8080/",
          "height": 661
        },
        "id": "OU2D8oSVVzvh",
        "outputId": "00f67b33-9424-49f0-fb4e-073b91cec924"
      },
      "outputs": [
        {
          "output_type": "execute_result",
          "data": {
            "text/plain": [
              "    age  gender    raceethnicity     month  year          city state  \\\n",
              "0    16    Male            Black  February  2015     Millbrook    AL   \n",
              "1    27    Male            White     April  2015     Pineville    LA   \n",
              "2    26    Male            White     March  2015       Kenosha    WI   \n",
              "3    25    Male  Hispanic/Latino     March  2015    South Gate    CA   \n",
              "4    29    Male            White     March  2015  Munroe Falls    OH   \n",
              "..   ..     ...              ...       ...   ...           ...   ...   \n",
              "462  18    Male            Black     April  2015    Portsmouth    VA   \n",
              "463  28    Male  Native American     April  2015      Tonasket    WA   \n",
              "464  52    Male            White     March  2015        Gaston    NC   \n",
              "465  38  Female            Black  February  2015       Oakland    CA   \n",
              "466  48    Male          Unknown   January  2015       Fremont    CA   \n",
              "\n",
              "      latitude   longitude             lawenforcementagency  ... share_white  \\\n",
              "0    32.529577  -86.362829      Millbrook Police Department  ...        60.5   \n",
              "1    31.321739  -92.434860  Rapides Parish Sheriff's Office  ...        53.8   \n",
              "2    42.583560  -87.835710        Kenosha Police Department  ...        73.8   \n",
              "3    33.939298 -118.219463     South Gate Police Department  ...         1.2   \n",
              "4    41.148575  -81.429878           Kent Police Department  ...        92.5   \n",
              "..         ...         ...                              ...  ...         ...   \n",
              "462  36.829014  -76.341438     Portsmouth Police Department  ...        40.9   \n",
              "463  48.708542 -119.436829               US Forest Service   ...        74.5   \n",
              "464  35.205776  -81.240669  Gaston County Police Department  ...        83.2   \n",
              "465  37.827129 -122.284492     Emeryville Police Department  ...        21.7   \n",
              "466  37.586471 -122.060010        Fremont Police Department  ...        23.1   \n",
              "\n",
              "    share_black  share_hispanic p_income h_income county_income comp_income  \\\n",
              "0          30.5             5.6    28375  51367.0         54766    0.937936   \n",
              "1          36.2             0.5    14678  27972.0         40930    0.683411   \n",
              "2           7.7            16.8    25286  45365.0         54930    0.825869   \n",
              "3           0.6            98.8    17194  48295.0         55909    0.863814   \n",
              "4           1.4             1.7    33954  68785.0         49669    1.384868   \n",
              "..          ...             ...      ...      ...           ...         ...   \n",
              "462        53.8               0    25262  27418.0         46166    0.593900   \n",
              "463         0.4            20.2    18470  35608.0         40368    0.882085   \n",
              "464        10.1             0.3    21175  38200.0         42017    0.909156   \n",
              "465        24.9            37.1    26971  63052.0         72112    0.874362   \n",
              "466           4            12.3    33590  88940.0         72112    1.233359   \n",
              "\n",
              "      pov     urate   college  \n",
              "0    14.1  0.097686  0.168510  \n",
              "1    28.8  0.065724  0.111402  \n",
              "2    14.6  0.166293  0.147312  \n",
              "3    11.7  0.124827  0.050133  \n",
              "4     1.9  0.063550  0.403954  \n",
              "..    ...       ...       ...  \n",
              "462  35.2  0.152047  0.120553  \n",
              "463  27.3  0.133650  0.174525  \n",
              "464  28.5  0.256150  0.072764  \n",
              "465  23.9  0.069601  0.396476  \n",
              "466   6.1  0.080912  0.435773  \n",
              "\n",
              "[465 rows x 23 columns]"
            ],
            "text/html": [
              "\n",
              "  <div id=\"df-63febe20-0514-411b-a272-f4f6d2ae337f\">\n",
              "    <div class=\"colab-df-container\">\n",
              "      <div>\n",
              "<style scoped>\n",
              "    .dataframe tbody tr th:only-of-type {\n",
              "        vertical-align: middle;\n",
              "    }\n",
              "\n",
              "    .dataframe tbody tr th {\n",
              "        vertical-align: top;\n",
              "    }\n",
              "\n",
              "    .dataframe thead th {\n",
              "        text-align: right;\n",
              "    }\n",
              "</style>\n",
              "<table border=\"1\" class=\"dataframe\">\n",
              "  <thead>\n",
              "    <tr style=\"text-align: right;\">\n",
              "      <th></th>\n",
              "      <th>age</th>\n",
              "      <th>gender</th>\n",
              "      <th>raceethnicity</th>\n",
              "      <th>month</th>\n",
              "      <th>year</th>\n",
              "      <th>city</th>\n",
              "      <th>state</th>\n",
              "      <th>latitude</th>\n",
              "      <th>longitude</th>\n",
              "      <th>lawenforcementagency</th>\n",
              "      <th>...</th>\n",
              "      <th>share_white</th>\n",
              "      <th>share_black</th>\n",
              "      <th>share_hispanic</th>\n",
              "      <th>p_income</th>\n",
              "      <th>h_income</th>\n",
              "      <th>county_income</th>\n",
              "      <th>comp_income</th>\n",
              "      <th>pov</th>\n",
              "      <th>urate</th>\n",
              "      <th>college</th>\n",
              "    </tr>\n",
              "  </thead>\n",
              "  <tbody>\n",
              "    <tr>\n",
              "      <th>0</th>\n",
              "      <td>16</td>\n",
              "      <td>Male</td>\n",
              "      <td>Black</td>\n",
              "      <td>February</td>\n",
              "      <td>2015</td>\n",
              "      <td>Millbrook</td>\n",
              "      <td>AL</td>\n",
              "      <td>32.529577</td>\n",
              "      <td>-86.362829</td>\n",
              "      <td>Millbrook Police Department</td>\n",
              "      <td>...</td>\n",
              "      <td>60.5</td>\n",
              "      <td>30.5</td>\n",
              "      <td>5.6</td>\n",
              "      <td>28375</td>\n",
              "      <td>51367.0</td>\n",
              "      <td>54766</td>\n",
              "      <td>0.937936</td>\n",
              "      <td>14.1</td>\n",
              "      <td>0.097686</td>\n",
              "      <td>0.168510</td>\n",
              "    </tr>\n",
              "    <tr>\n",
              "      <th>1</th>\n",
              "      <td>27</td>\n",
              "      <td>Male</td>\n",
              "      <td>White</td>\n",
              "      <td>April</td>\n",
              "      <td>2015</td>\n",
              "      <td>Pineville</td>\n",
              "      <td>LA</td>\n",
              "      <td>31.321739</td>\n",
              "      <td>-92.434860</td>\n",
              "      <td>Rapides Parish Sheriff's Office</td>\n",
              "      <td>...</td>\n",
              "      <td>53.8</td>\n",
              "      <td>36.2</td>\n",
              "      <td>0.5</td>\n",
              "      <td>14678</td>\n",
              "      <td>27972.0</td>\n",
              "      <td>40930</td>\n",
              "      <td>0.683411</td>\n",
              "      <td>28.8</td>\n",
              "      <td>0.065724</td>\n",
              "      <td>0.111402</td>\n",
              "    </tr>\n",
              "    <tr>\n",
              "      <th>2</th>\n",
              "      <td>26</td>\n",
              "      <td>Male</td>\n",
              "      <td>White</td>\n",
              "      <td>March</td>\n",
              "      <td>2015</td>\n",
              "      <td>Kenosha</td>\n",
              "      <td>WI</td>\n",
              "      <td>42.583560</td>\n",
              "      <td>-87.835710</td>\n",
              "      <td>Kenosha Police Department</td>\n",
              "      <td>...</td>\n",
              "      <td>73.8</td>\n",
              "      <td>7.7</td>\n",
              "      <td>16.8</td>\n",
              "      <td>25286</td>\n",
              "      <td>45365.0</td>\n",
              "      <td>54930</td>\n",
              "      <td>0.825869</td>\n",
              "      <td>14.6</td>\n",
              "      <td>0.166293</td>\n",
              "      <td>0.147312</td>\n",
              "    </tr>\n",
              "    <tr>\n",
              "      <th>3</th>\n",
              "      <td>25</td>\n",
              "      <td>Male</td>\n",
              "      <td>Hispanic/Latino</td>\n",
              "      <td>March</td>\n",
              "      <td>2015</td>\n",
              "      <td>South Gate</td>\n",
              "      <td>CA</td>\n",
              "      <td>33.939298</td>\n",
              "      <td>-118.219463</td>\n",
              "      <td>South Gate Police Department</td>\n",
              "      <td>...</td>\n",
              "      <td>1.2</td>\n",
              "      <td>0.6</td>\n",
              "      <td>98.8</td>\n",
              "      <td>17194</td>\n",
              "      <td>48295.0</td>\n",
              "      <td>55909</td>\n",
              "      <td>0.863814</td>\n",
              "      <td>11.7</td>\n",
              "      <td>0.124827</td>\n",
              "      <td>0.050133</td>\n",
              "    </tr>\n",
              "    <tr>\n",
              "      <th>4</th>\n",
              "      <td>29</td>\n",
              "      <td>Male</td>\n",
              "      <td>White</td>\n",
              "      <td>March</td>\n",
              "      <td>2015</td>\n",
              "      <td>Munroe Falls</td>\n",
              "      <td>OH</td>\n",
              "      <td>41.148575</td>\n",
              "      <td>-81.429878</td>\n",
              "      <td>Kent Police Department</td>\n",
              "      <td>...</td>\n",
              "      <td>92.5</td>\n",
              "      <td>1.4</td>\n",
              "      <td>1.7</td>\n",
              "      <td>33954</td>\n",
              "      <td>68785.0</td>\n",
              "      <td>49669</td>\n",
              "      <td>1.384868</td>\n",
              "      <td>1.9</td>\n",
              "      <td>0.063550</td>\n",
              "      <td>0.403954</td>\n",
              "    </tr>\n",
              "    <tr>\n",
              "      <th>...</th>\n",
              "      <td>...</td>\n",
              "      <td>...</td>\n",
              "      <td>...</td>\n",
              "      <td>...</td>\n",
              "      <td>...</td>\n",
              "      <td>...</td>\n",
              "      <td>...</td>\n",
              "      <td>...</td>\n",
              "      <td>...</td>\n",
              "      <td>...</td>\n",
              "      <td>...</td>\n",
              "      <td>...</td>\n",
              "      <td>...</td>\n",
              "      <td>...</td>\n",
              "      <td>...</td>\n",
              "      <td>...</td>\n",
              "      <td>...</td>\n",
              "      <td>...</td>\n",
              "      <td>...</td>\n",
              "      <td>...</td>\n",
              "      <td>...</td>\n",
              "    </tr>\n",
              "    <tr>\n",
              "      <th>462</th>\n",
              "      <td>18</td>\n",
              "      <td>Male</td>\n",
              "      <td>Black</td>\n",
              "      <td>April</td>\n",
              "      <td>2015</td>\n",
              "      <td>Portsmouth</td>\n",
              "      <td>VA</td>\n",
              "      <td>36.829014</td>\n",
              "      <td>-76.341438</td>\n",
              "      <td>Portsmouth Police Department</td>\n",
              "      <td>...</td>\n",
              "      <td>40.9</td>\n",
              "      <td>53.8</td>\n",
              "      <td>0</td>\n",
              "      <td>25262</td>\n",
              "      <td>27418.0</td>\n",
              "      <td>46166</td>\n",
              "      <td>0.593900</td>\n",
              "      <td>35.2</td>\n",
              "      <td>0.152047</td>\n",
              "      <td>0.120553</td>\n",
              "    </tr>\n",
              "    <tr>\n",
              "      <th>463</th>\n",
              "      <td>28</td>\n",
              "      <td>Male</td>\n",
              "      <td>Native American</td>\n",
              "      <td>April</td>\n",
              "      <td>2015</td>\n",
              "      <td>Tonasket</td>\n",
              "      <td>WA</td>\n",
              "      <td>48.708542</td>\n",
              "      <td>-119.436829</td>\n",
              "      <td>US Forest Service</td>\n",
              "      <td>...</td>\n",
              "      <td>74.5</td>\n",
              "      <td>0.4</td>\n",
              "      <td>20.2</td>\n",
              "      <td>18470</td>\n",
              "      <td>35608.0</td>\n",
              "      <td>40368</td>\n",
              "      <td>0.882085</td>\n",
              "      <td>27.3</td>\n",
              "      <td>0.133650</td>\n",
              "      <td>0.174525</td>\n",
              "    </tr>\n",
              "    <tr>\n",
              "      <th>464</th>\n",
              "      <td>52</td>\n",
              "      <td>Male</td>\n",
              "      <td>White</td>\n",
              "      <td>March</td>\n",
              "      <td>2015</td>\n",
              "      <td>Gaston</td>\n",
              "      <td>NC</td>\n",
              "      <td>35.205776</td>\n",
              "      <td>-81.240669</td>\n",
              "      <td>Gaston County Police Department</td>\n",
              "      <td>...</td>\n",
              "      <td>83.2</td>\n",
              "      <td>10.1</td>\n",
              "      <td>0.3</td>\n",
              "      <td>21175</td>\n",
              "      <td>38200.0</td>\n",
              "      <td>42017</td>\n",
              "      <td>0.909156</td>\n",
              "      <td>28.5</td>\n",
              "      <td>0.256150</td>\n",
              "      <td>0.072764</td>\n",
              "    </tr>\n",
              "    <tr>\n",
              "      <th>465</th>\n",
              "      <td>38</td>\n",
              "      <td>Female</td>\n",
              "      <td>Black</td>\n",
              "      <td>February</td>\n",
              "      <td>2015</td>\n",
              "      <td>Oakland</td>\n",
              "      <td>CA</td>\n",
              "      <td>37.827129</td>\n",
              "      <td>-122.284492</td>\n",
              "      <td>Emeryville Police Department</td>\n",
              "      <td>...</td>\n",
              "      <td>21.7</td>\n",
              "      <td>24.9</td>\n",
              "      <td>37.1</td>\n",
              "      <td>26971</td>\n",
              "      <td>63052.0</td>\n",
              "      <td>72112</td>\n",
              "      <td>0.874362</td>\n",
              "      <td>23.9</td>\n",
              "      <td>0.069601</td>\n",
              "      <td>0.396476</td>\n",
              "    </tr>\n",
              "    <tr>\n",
              "      <th>466</th>\n",
              "      <td>48</td>\n",
              "      <td>Male</td>\n",
              "      <td>Unknown</td>\n",
              "      <td>January</td>\n",
              "      <td>2015</td>\n",
              "      <td>Fremont</td>\n",
              "      <td>CA</td>\n",
              "      <td>37.586471</td>\n",
              "      <td>-122.060010</td>\n",
              "      <td>Fremont Police Department</td>\n",
              "      <td>...</td>\n",
              "      <td>23.1</td>\n",
              "      <td>4</td>\n",
              "      <td>12.3</td>\n",
              "      <td>33590</td>\n",
              "      <td>88940.0</td>\n",
              "      <td>72112</td>\n",
              "      <td>1.233359</td>\n",
              "      <td>6.1</td>\n",
              "      <td>0.080912</td>\n",
              "      <td>0.435773</td>\n",
              "    </tr>\n",
              "  </tbody>\n",
              "</table>\n",
              "<p>465 rows × 23 columns</p>\n",
              "</div>\n",
              "      <button class=\"colab-df-convert\" onclick=\"convertToInteractive('df-63febe20-0514-411b-a272-f4f6d2ae337f')\"\n",
              "              title=\"Convert this dataframe to an interactive table.\"\n",
              "              style=\"display:none;\">\n",
              "        \n",
              "  <svg xmlns=\"http://www.w3.org/2000/svg\" height=\"24px\"viewBox=\"0 0 24 24\"\n",
              "       width=\"24px\">\n",
              "    <path d=\"M0 0h24v24H0V0z\" fill=\"none\"/>\n",
              "    <path d=\"M18.56 5.44l.94 2.06.94-2.06 2.06-.94-2.06-.94-.94-2.06-.94 2.06-2.06.94zm-11 1L8.5 8.5l.94-2.06 2.06-.94-2.06-.94L8.5 2.5l-.94 2.06-2.06.94zm10 10l.94 2.06.94-2.06 2.06-.94-2.06-.94-.94-2.06-.94 2.06-2.06.94z\"/><path d=\"M17.41 7.96l-1.37-1.37c-.4-.4-.92-.59-1.43-.59-.52 0-1.04.2-1.43.59L10.3 9.45l-7.72 7.72c-.78.78-.78 2.05 0 2.83L4 21.41c.39.39.9.59 1.41.59.51 0 1.02-.2 1.41-.59l7.78-7.78 2.81-2.81c.8-.78.8-2.07 0-2.86zM5.41 20L4 18.59l7.72-7.72 1.47 1.35L5.41 20z\"/>\n",
              "  </svg>\n",
              "      </button>\n",
              "      \n",
              "  <style>\n",
              "    .colab-df-container {\n",
              "      display:flex;\n",
              "      flex-wrap:wrap;\n",
              "      gap: 12px;\n",
              "    }\n",
              "\n",
              "    .colab-df-convert {\n",
              "      background-color: #E8F0FE;\n",
              "      border: none;\n",
              "      border-radius: 50%;\n",
              "      cursor: pointer;\n",
              "      display: none;\n",
              "      fill: #1967D2;\n",
              "      height: 32px;\n",
              "      padding: 0 0 0 0;\n",
              "      width: 32px;\n",
              "    }\n",
              "\n",
              "    .colab-df-convert:hover {\n",
              "      background-color: #E2EBFA;\n",
              "      box-shadow: 0px 1px 2px rgba(60, 64, 67, 0.3), 0px 1px 3px 1px rgba(60, 64, 67, 0.15);\n",
              "      fill: #174EA6;\n",
              "    }\n",
              "\n",
              "    [theme=dark] .colab-df-convert {\n",
              "      background-color: #3B4455;\n",
              "      fill: #D2E3FC;\n",
              "    }\n",
              "\n",
              "    [theme=dark] .colab-df-convert:hover {\n",
              "      background-color: #434B5C;\n",
              "      box-shadow: 0px 1px 3px 1px rgba(0, 0, 0, 0.15);\n",
              "      filter: drop-shadow(0px 1px 2px rgba(0, 0, 0, 0.3));\n",
              "      fill: #FFFFFF;\n",
              "    }\n",
              "  </style>\n",
              "\n",
              "      <script>\n",
              "        const buttonEl =\n",
              "          document.querySelector('#df-63febe20-0514-411b-a272-f4f6d2ae337f button.colab-df-convert');\n",
              "        buttonEl.style.display =\n",
              "          google.colab.kernel.accessAllowed ? 'block' : 'none';\n",
              "\n",
              "        async function convertToInteractive(key) {\n",
              "          const element = document.querySelector('#df-63febe20-0514-411b-a272-f4f6d2ae337f');\n",
              "          const dataTable =\n",
              "            await google.colab.kernel.invokeFunction('convertToInteractive',\n",
              "                                                     [key], {});\n",
              "          if (!dataTable) return;\n",
              "\n",
              "          const docLinkHtml = 'Like what you see? Visit the ' +\n",
              "            '<a target=\"_blank\" href=https://colab.research.google.com/notebooks/data_table.ipynb>data table notebook</a>'\n",
              "            + ' to learn more about interactive tables.';\n",
              "          element.innerHTML = '';\n",
              "          dataTable['output_type'] = 'display_data';\n",
              "          await google.colab.output.renderOutput(dataTable, element);\n",
              "          const docLink = document.createElement('div');\n",
              "          docLink.innerHTML = docLinkHtml;\n",
              "          element.appendChild(docLink);\n",
              "        }\n",
              "      </script>\n",
              "    </div>\n",
              "  </div>\n",
              "  "
            ]
          },
          "metadata": {},
          "execution_count": 1
        }
      ],
      "source": [
        "#article link: https://fivethirtyeight.com/features/where-police-have-killed-americans-in-2015/\n",
        "#prediction: You are tasked to build a ML model to predict if the deceased is armed or not. \n",
        "\n",
        "import pandas as pd\n",
        "import seaborn as sns\n",
        "%matplotlib inline \n",
        "import matplotlib.pyplot as plt\n",
        "\n",
        "data='https://raw.githubusercontent.com/csbfx/cs133/main/police_killing.csv'\n",
        "df = pd.read_csv(data)\n",
        "police_drop=df.dropna()\n",
        "police_drop"
      ]
    },
    {
      "cell_type": "code",
      "source": [
        "police_drop.info()"
      ],
      "metadata": {
        "colab": {
          "base_uri": "https://localhost:8080/"
        },
        "id": "TWr5BdHJ3X05",
        "outputId": "b926f83f-d794-408f-8c24-61d0cc30a5d3"
      },
      "execution_count": null,
      "outputs": [
        {
          "output_type": "stream",
          "name": "stdout",
          "text": [
            "<class 'pandas.core.frame.DataFrame'>\n",
            "Int64Index: 465 entries, 0 to 466\n",
            "Data columns (total 23 columns):\n",
            " #   Column                Non-Null Count  Dtype  \n",
            "---  ------                --------------  -----  \n",
            " 0   age                   465 non-null    object \n",
            " 1   gender                465 non-null    object \n",
            " 2   raceethnicity         465 non-null    object \n",
            " 3   month                 465 non-null    object \n",
            " 4   year                  465 non-null    int64  \n",
            " 5   city                  465 non-null    object \n",
            " 6   state                 465 non-null    object \n",
            " 7   latitude              465 non-null    float64\n",
            " 8   longitude             465 non-null    float64\n",
            " 9   lawenforcementagency  465 non-null    object \n",
            " 10  cause                 465 non-null    object \n",
            " 11  armed                 465 non-null    object \n",
            " 12  pop                   465 non-null    int64  \n",
            " 13  share_white           465 non-null    object \n",
            " 14  share_black           465 non-null    object \n",
            " 15  share_hispanic        465 non-null    object \n",
            " 16  p_income              465 non-null    object \n",
            " 17  h_income              465 non-null    float64\n",
            " 18  county_income         465 non-null    int64  \n",
            " 19  comp_income           465 non-null    float64\n",
            " 20  pov                   465 non-null    object \n",
            " 21  urate                 465 non-null    float64\n",
            " 22  college               465 non-null    float64\n",
            "dtypes: float64(6), int64(3), object(14)\n",
            "memory usage: 87.2+ KB\n"
          ]
        }
      ]
    },
    {
      "cell_type": "code",
      "source": [
        "police_drop['age'].value_counts()\n"
      ],
      "metadata": {
        "colab": {
          "base_uri": "https://localhost:8080/"
        },
        "id": "b_5AHRgo3hk2",
        "outputId": "a4675062-2cdf-47f8-fcc2-68bfc7f7856d"
      },
      "execution_count": null,
      "outputs": [
        {
          "output_type": "execute_result",
          "data": {
            "text/plain": [
              "34    18\n",
              "29    18\n",
              "35    18\n",
              "31    17\n",
              "36    17\n",
              "      ..\n",
              "74     1\n",
              "71     1\n",
              "87     1\n",
              "83     1\n",
              "75     1\n",
              "Name: age, Length: 61, dtype: int64"
            ]
          },
          "metadata": {},
          "execution_count": 3
        }
      ]
    },
    {
      "cell_type": "code",
      "source": [
        "df.describe()"
      ],
      "metadata": {
        "colab": {
          "base_uri": "https://localhost:8080/",
          "height": 300
        },
        "id": "8-ZMHnF4YLNp",
        "outputId": "6204851f-1fa2-48d5-c97b-246ccab56f30"
      },
      "execution_count": null,
      "outputs": [
        {
          "output_type": "execute_result",
          "data": {
            "text/plain": [
              "         year    latitude   longitude           pop       h_income  \\\n",
              "count   467.0  467.000000  467.000000    467.000000     465.000000   \n",
              "mean   2015.0   36.403224  -96.972666   4783.719486   46627.182796   \n",
              "std       0.0    5.193357   16.953842   2374.565749   20511.194907   \n",
              "min    2015.0   19.915194 -159.642700      0.000000   10290.000000   \n",
              "25%    2015.0   33.335240 -111.954636   3357.500000   32625.000000   \n",
              "50%    2015.0   35.769779  -94.761902   4447.000000   42759.000000   \n",
              "75%    2015.0   39.937452  -82.961582   5815.500000   56190.000000   \n",
              "max    2015.0   61.218408  -68.100007  26826.000000  142500.000000   \n",
              "\n",
              "       county_income  comp_income       urate     college  \n",
              "count     467.000000   465.000000  465.000000  465.000000  \n",
              "mean    52527.331906     0.895913    0.117399    0.220217  \n",
              "std     12948.263811     0.333584    0.069175    0.158347  \n",
              "min     22545.000000     0.184049    0.011335    0.013547  \n",
              "25%     43804.000000     0.645365    0.068592    0.106167  \n",
              "50%     50856.000000     0.869612    0.105181    0.169544  \n",
              "75%     56832.000000     1.081454    0.140833    0.284542  \n",
              "max    110292.000000     2.865216    0.507614    0.828070  "
            ],
            "text/html": [
              "\n",
              "  <div id=\"df-36e4f4ba-9770-4bda-978b-04aa8ee1d6e8\">\n",
              "    <div class=\"colab-df-container\">\n",
              "      <div>\n",
              "<style scoped>\n",
              "    .dataframe tbody tr th:only-of-type {\n",
              "        vertical-align: middle;\n",
              "    }\n",
              "\n",
              "    .dataframe tbody tr th {\n",
              "        vertical-align: top;\n",
              "    }\n",
              "\n",
              "    .dataframe thead th {\n",
              "        text-align: right;\n",
              "    }\n",
              "</style>\n",
              "<table border=\"1\" class=\"dataframe\">\n",
              "  <thead>\n",
              "    <tr style=\"text-align: right;\">\n",
              "      <th></th>\n",
              "      <th>year</th>\n",
              "      <th>latitude</th>\n",
              "      <th>longitude</th>\n",
              "      <th>pop</th>\n",
              "      <th>h_income</th>\n",
              "      <th>county_income</th>\n",
              "      <th>comp_income</th>\n",
              "      <th>urate</th>\n",
              "      <th>college</th>\n",
              "    </tr>\n",
              "  </thead>\n",
              "  <tbody>\n",
              "    <tr>\n",
              "      <th>count</th>\n",
              "      <td>467.0</td>\n",
              "      <td>467.000000</td>\n",
              "      <td>467.000000</td>\n",
              "      <td>467.000000</td>\n",
              "      <td>465.000000</td>\n",
              "      <td>467.000000</td>\n",
              "      <td>465.000000</td>\n",
              "      <td>465.000000</td>\n",
              "      <td>465.000000</td>\n",
              "    </tr>\n",
              "    <tr>\n",
              "      <th>mean</th>\n",
              "      <td>2015.0</td>\n",
              "      <td>36.403224</td>\n",
              "      <td>-96.972666</td>\n",
              "      <td>4783.719486</td>\n",
              "      <td>46627.182796</td>\n",
              "      <td>52527.331906</td>\n",
              "      <td>0.895913</td>\n",
              "      <td>0.117399</td>\n",
              "      <td>0.220217</td>\n",
              "    </tr>\n",
              "    <tr>\n",
              "      <th>std</th>\n",
              "      <td>0.0</td>\n",
              "      <td>5.193357</td>\n",
              "      <td>16.953842</td>\n",
              "      <td>2374.565749</td>\n",
              "      <td>20511.194907</td>\n",
              "      <td>12948.263811</td>\n",
              "      <td>0.333584</td>\n",
              "      <td>0.069175</td>\n",
              "      <td>0.158347</td>\n",
              "    </tr>\n",
              "    <tr>\n",
              "      <th>min</th>\n",
              "      <td>2015.0</td>\n",
              "      <td>19.915194</td>\n",
              "      <td>-159.642700</td>\n",
              "      <td>0.000000</td>\n",
              "      <td>10290.000000</td>\n",
              "      <td>22545.000000</td>\n",
              "      <td>0.184049</td>\n",
              "      <td>0.011335</td>\n",
              "      <td>0.013547</td>\n",
              "    </tr>\n",
              "    <tr>\n",
              "      <th>25%</th>\n",
              "      <td>2015.0</td>\n",
              "      <td>33.335240</td>\n",
              "      <td>-111.954636</td>\n",
              "      <td>3357.500000</td>\n",
              "      <td>32625.000000</td>\n",
              "      <td>43804.000000</td>\n",
              "      <td>0.645365</td>\n",
              "      <td>0.068592</td>\n",
              "      <td>0.106167</td>\n",
              "    </tr>\n",
              "    <tr>\n",
              "      <th>50%</th>\n",
              "      <td>2015.0</td>\n",
              "      <td>35.769779</td>\n",
              "      <td>-94.761902</td>\n",
              "      <td>4447.000000</td>\n",
              "      <td>42759.000000</td>\n",
              "      <td>50856.000000</td>\n",
              "      <td>0.869612</td>\n",
              "      <td>0.105181</td>\n",
              "      <td>0.169544</td>\n",
              "    </tr>\n",
              "    <tr>\n",
              "      <th>75%</th>\n",
              "      <td>2015.0</td>\n",
              "      <td>39.937452</td>\n",
              "      <td>-82.961582</td>\n",
              "      <td>5815.500000</td>\n",
              "      <td>56190.000000</td>\n",
              "      <td>56832.000000</td>\n",
              "      <td>1.081454</td>\n",
              "      <td>0.140833</td>\n",
              "      <td>0.284542</td>\n",
              "    </tr>\n",
              "    <tr>\n",
              "      <th>max</th>\n",
              "      <td>2015.0</td>\n",
              "      <td>61.218408</td>\n",
              "      <td>-68.100007</td>\n",
              "      <td>26826.000000</td>\n",
              "      <td>142500.000000</td>\n",
              "      <td>110292.000000</td>\n",
              "      <td>2.865216</td>\n",
              "      <td>0.507614</td>\n",
              "      <td>0.828070</td>\n",
              "    </tr>\n",
              "  </tbody>\n",
              "</table>\n",
              "</div>\n",
              "      <button class=\"colab-df-convert\" onclick=\"convertToInteractive('df-36e4f4ba-9770-4bda-978b-04aa8ee1d6e8')\"\n",
              "              title=\"Convert this dataframe to an interactive table.\"\n",
              "              style=\"display:none;\">\n",
              "        \n",
              "  <svg xmlns=\"http://www.w3.org/2000/svg\" height=\"24px\"viewBox=\"0 0 24 24\"\n",
              "       width=\"24px\">\n",
              "    <path d=\"M0 0h24v24H0V0z\" fill=\"none\"/>\n",
              "    <path d=\"M18.56 5.44l.94 2.06.94-2.06 2.06-.94-2.06-.94-.94-2.06-.94 2.06-2.06.94zm-11 1L8.5 8.5l.94-2.06 2.06-.94-2.06-.94L8.5 2.5l-.94 2.06-2.06.94zm10 10l.94 2.06.94-2.06 2.06-.94-2.06-.94-.94-2.06-.94 2.06-2.06.94z\"/><path d=\"M17.41 7.96l-1.37-1.37c-.4-.4-.92-.59-1.43-.59-.52 0-1.04.2-1.43.59L10.3 9.45l-7.72 7.72c-.78.78-.78 2.05 0 2.83L4 21.41c.39.39.9.59 1.41.59.51 0 1.02-.2 1.41-.59l7.78-7.78 2.81-2.81c.8-.78.8-2.07 0-2.86zM5.41 20L4 18.59l7.72-7.72 1.47 1.35L5.41 20z\"/>\n",
              "  </svg>\n",
              "      </button>\n",
              "      \n",
              "  <style>\n",
              "    .colab-df-container {\n",
              "      display:flex;\n",
              "      flex-wrap:wrap;\n",
              "      gap: 12px;\n",
              "    }\n",
              "\n",
              "    .colab-df-convert {\n",
              "      background-color: #E8F0FE;\n",
              "      border: none;\n",
              "      border-radius: 50%;\n",
              "      cursor: pointer;\n",
              "      display: none;\n",
              "      fill: #1967D2;\n",
              "      height: 32px;\n",
              "      padding: 0 0 0 0;\n",
              "      width: 32px;\n",
              "    }\n",
              "\n",
              "    .colab-df-convert:hover {\n",
              "      background-color: #E2EBFA;\n",
              "      box-shadow: 0px 1px 2px rgba(60, 64, 67, 0.3), 0px 1px 3px 1px rgba(60, 64, 67, 0.15);\n",
              "      fill: #174EA6;\n",
              "    }\n",
              "\n",
              "    [theme=dark] .colab-df-convert {\n",
              "      background-color: #3B4455;\n",
              "      fill: #D2E3FC;\n",
              "    }\n",
              "\n",
              "    [theme=dark] .colab-df-convert:hover {\n",
              "      background-color: #434B5C;\n",
              "      box-shadow: 0px 1px 3px 1px rgba(0, 0, 0, 0.15);\n",
              "      filter: drop-shadow(0px 1px 2px rgba(0, 0, 0, 0.3));\n",
              "      fill: #FFFFFF;\n",
              "    }\n",
              "  </style>\n",
              "\n",
              "      <script>\n",
              "        const buttonEl =\n",
              "          document.querySelector('#df-36e4f4ba-9770-4bda-978b-04aa8ee1d6e8 button.colab-df-convert');\n",
              "        buttonEl.style.display =\n",
              "          google.colab.kernel.accessAllowed ? 'block' : 'none';\n",
              "\n",
              "        async function convertToInteractive(key) {\n",
              "          const element = document.querySelector('#df-36e4f4ba-9770-4bda-978b-04aa8ee1d6e8');\n",
              "          const dataTable =\n",
              "            await google.colab.kernel.invokeFunction('convertToInteractive',\n",
              "                                                     [key], {});\n",
              "          if (!dataTable) return;\n",
              "\n",
              "          const docLinkHtml = 'Like what you see? Visit the ' +\n",
              "            '<a target=\"_blank\" href=https://colab.research.google.com/notebooks/data_table.ipynb>data table notebook</a>'\n",
              "            + ' to learn more about interactive tables.';\n",
              "          element.innerHTML = '';\n",
              "          dataTable['output_type'] = 'display_data';\n",
              "          await google.colab.output.renderOutput(dataTable, element);\n",
              "          const docLink = document.createElement('div');\n",
              "          docLink.innerHTML = docLinkHtml;\n",
              "          element.appendChild(docLink);\n",
              "        }\n",
              "      </script>\n",
              "    </div>\n",
              "  </div>\n",
              "  "
            ]
          },
          "metadata": {},
          "execution_count": 4
        }
      ]
    },
    {
      "cell_type": "code",
      "source": [
        "df['raceethnicity'].value_counts()"
      ],
      "metadata": {
        "colab": {
          "base_uri": "https://localhost:8080/"
        },
        "id": "U98zF8_ZZVl3",
        "outputId": "c3187733-1ea0-41c8-98ea-8f770ab38355"
      },
      "execution_count": null,
      "outputs": [
        {
          "output_type": "execute_result",
          "data": {
            "text/plain": [
              "White                     236\n",
              "Black                     135\n",
              "Hispanic/Latino            67\n",
              "Unknown                    15\n",
              "Asian/Pacific Islander     10\n",
              "Native American             4\n",
              "Name: raceethnicity, dtype: int64"
            ]
          },
          "metadata": {},
          "execution_count": 5
        }
      ]
    },
    {
      "cell_type": "code",
      "source": [
        "df.groupby(df['raceethnicity']).armed.value_counts()"
      ],
      "metadata": {
        "colab": {
          "base_uri": "https://localhost:8080/"
        },
        "id": "u7vOQ_ejaM_q",
        "outputId": "3d586cf6-6f12-4eee-e244-e18b5f156364"
      },
      "execution_count": null,
      "outputs": [
        {
          "output_type": "execute_result",
          "data": {
            "text/plain": [
              "raceethnicity           armed             \n",
              "Asian/Pacific Islander  No                      4\n",
              "                        Firearm                 3\n",
              "                        Knife                   2\n",
              "                        Vehicle                 1\n",
              "Black                   Firearm                66\n",
              "                        No                     32\n",
              "                        Knife                  18\n",
              "                        Vehicle                 9\n",
              "                        Other                   7\n",
              "                        Disputed                1\n",
              "                        Non-lethal firearm      1\n",
              "                        Unknown                 1\n",
              "Hispanic/Latino         Firearm                31\n",
              "                        Knife                  14\n",
              "                        No                     13\n",
              "                        Other                   3\n",
              "                        Vehicle                 3\n",
              "                        Disputed                1\n",
              "                        Non-lethal firearm      1\n",
              "                        Unknown                 1\n",
              "Native American         Firearm                 2\n",
              "                        Knife                   1\n",
              "                        No                      1\n",
              "Unknown                 Firearm                 8\n",
              "                        Non-lethal firearm      4\n",
              "                        Knife                   1\n",
              "                        No                      1\n",
              "                        Other                   1\n",
              "White                   Firearm               120\n",
              "                        No                     51\n",
              "                        Knife                  32\n",
              "                        Other                  15\n",
              "                        Non-lethal firearm      8\n",
              "                        Unknown                 5\n",
              "                        Vehicle                 5\n",
              "Name: armed, dtype: int64"
            ]
          },
          "metadata": {},
          "execution_count": 6
        }
      ]
    },
    {
      "cell_type": "code",
      "source": [
        "df.hist(bins=50, figsize=(20,15))\n",
        "plt.show()"
      ],
      "metadata": {
        "colab": {
          "base_uri": "https://localhost:8080/",
          "height": 879
        },
        "id": "FgAneBtcaew3",
        "outputId": "cb232e25-4143-408e-86ce-ce0f8da5156f"
      },
      "execution_count": null,
      "outputs": [
        {
          "output_type": "display_data",
          "data": {
            "text/plain": [
              "<Figure size 1440x1080 with 9 Axes>"
            ],
            "image/png": "[encoded data removed]"
          },
          "metadata": {
            "needs_background": "light"
          }
        }
      ]
    },
    {
      "cell_type": "markdown",
      "source": [
        "Drop all null values and convert numerical columns to their correct type"
      ],
      "metadata": {
        "id": "tTKhy5_f8N9V"
      }
    },
    {
      "cell_type": "code",
      "source": [
        "police = police_drop[pd.to_numeric(police_drop['age'], errors='coerce').notnull()]\n",
        "police = police[pd.to_numeric(police['share_white'], errors='coerce').notnull()]\n",
        "police = police[pd.to_numeric(police['share_black'], errors='coerce').notnull()]\n",
        "police = police[pd.to_numeric(police['share_hispanic'], errors='coerce').notnull()]\n",
        "police = police[pd.to_numeric(police['p_income'], errors='coerce').notnull()]\n",
        "police['p_income'] = police['p_income'].astype(int)\n",
        "police = police[pd.to_numeric(police['pov'], errors='coerce').notnull()]\n",
        "police['pov'] = police['pov'].astype(float)\n",
        "police['share_white'] = police['share_white'].astype(float)\n",
        "police['share_black'] = police['share_black'].astype(float)\n",
        "police['share_hispanic'] = police['share_hispanic'].astype(float)\n",
        "police['age'] = police['age'].astype(int)"
      ],
      "metadata": {
        "id": "LRfio_A878b-"
      },
      "execution_count": null,
      "outputs": []
    },
    {
      "cell_type": "code",
      "source": [
        "police.dropna(inplace=True)"
      ],
      "metadata": {
        "id": "4wvx7lMD8J8x"
      },
      "execution_count": null,
      "outputs": []
    },
    {
      "cell_type": "code",
      "source": [
        "police.info()"
      ],
      "metadata": {
        "id": "Ri712CxlN7b3",
        "outputId": "11fa1f05-e968-4859-ea95-b9bf23232014",
        "colab": {
          "base_uri": "https://localhost:8080/"
        }
      },
      "execution_count": null,
      "outputs": [
        {
          "output_type": "stream",
          "name": "stdout",
          "text": [
            "<class 'pandas.core.frame.DataFrame'>\n",
            "Int64Index: 461 entries, 0 to 466\n",
            "Data columns (total 23 columns):\n",
            " #   Column                Non-Null Count  Dtype  \n",
            "---  ------                --------------  -----  \n",
            " 0   age                   461 non-null    int64  \n",
            " 1   gender                461 non-null    object \n",
            " 2   raceethnicity         461 non-null    object \n",
            " 3   month                 461 non-null    object \n",
            " 4   year                  461 non-null    int64  \n",
            " 5   city                  461 non-null    object \n",
            " 6   state                 461 non-null    object \n",
            " 7   latitude              461 non-null    float64\n",
            " 8   longitude             461 non-null    float64\n",
            " 9   lawenforcementagency  461 non-null    object \n",
            " 10  cause                 461 non-null    object \n",
            " 11  armed                 461 non-null    object \n",
            " 12  pop                   461 non-null    int64  \n",
            " 13  share_white           461 non-null    float64\n",
            " 14  share_black           461 non-null    float64\n",
            " 15  share_hispanic        461 non-null    float64\n",
            " 16  p_income              461 non-null    int64  \n",
            " 17  h_income              461 non-null    float64\n",
            " 18  county_income         461 non-null    int64  \n",
            " 19  comp_income           461 non-null    float64\n",
            " 20  pov                   461 non-null    float64\n",
            " 21  urate                 461 non-null    float64\n",
            " 22  college               461 non-null    float64\n",
            "dtypes: float64(10), int64(5), object(8)\n",
            "memory usage: 86.4+ KB\n"
          ]
        }
      ]
    },
    {
      "cell_type": "code",
      "source": [
        "police['state'].sort_values(ascending=False).head(10)"
      ],
      "metadata": {
        "colab": {
          "base_uri": "https://localhost:8080/"
        },
        "id": "DTW547ve_3-3",
        "outputId": "8f0ad8b1-c2fc-480b-9246-0fbbf704b5c5"
      },
      "execution_count": null,
      "outputs": [
        {
          "output_type": "execute_result",
          "data": {
            "text/plain": [
              "350    WY\n",
              "82     WV\n",
              "181    WV\n",
              "448    WI\n",
              "258    WI\n",
              "2      WI\n",
              "423    WI\n",
              "443    WI\n",
              "339    WA\n",
              "39     WA\n",
              "Name: state, dtype: object"
            ]
          },
          "metadata": {},
          "execution_count": 11
        }
      ]
    },
    {
      "cell_type": "markdown",
      "source": [
        "Add column grouping the age category"
      ],
      "metadata": {
        "id": "wXsifLRIDR0A"
      }
    },
    {
      "cell_type": "code",
      "source": [
        "police['age_cat'] = pd.cut(police['age'],\n",
        "                       bins=[0.0, 20, 30, 40, 60, 100],\n",
        "                       labels=['0-20', '21-30', '31-40', '41-60', '61+'])"
      ],
      "metadata": {
        "id": "97pmsM__DXs1"
      },
      "execution_count": null,
      "outputs": []
    },
    {
      "cell_type": "code",
      "source": [
        "police['age_cat']"
      ],
      "metadata": {
        "colab": {
          "base_uri": "https://localhost:8080/"
        },
        "id": "lV6bk1PNOSIc",
        "outputId": "33d75e02-aaaf-4f82-f8b4-db4f992768be"
      },
      "execution_count": null,
      "outputs": [
        {
          "output_type": "execute_result",
          "data": {
            "text/plain": [
              "0       0-20\n",
              "1      21-30\n",
              "2      21-30\n",
              "3      21-30\n",
              "4      21-30\n",
              "       ...  \n",
              "462     0-20\n",
              "463    21-30\n",
              "464    41-60\n",
              "465    31-40\n",
              "466    41-60\n",
              "Name: age_cat, Length: 461, dtype: category\n",
              "Categories (5, object): ['0-20' < '21-30' < '31-40' < '41-60' < '61+']"
            ]
          },
          "metadata": {},
          "execution_count": 13
        }
      ]
    },
    {
      "cell_type": "markdown",
      "source": [
        "#Plot 1: Distribution of Deaths by Age"
      ],
      "metadata": {
        "id": "uViSYheUDbw_"
      }
    },
    {
      "cell_type": "code",
      "source": [
        "police['age_cat'].hist();\n",
        "plt.title(\"Distribution of Deaths by Age\");"
      ],
      "metadata": {
        "id": "GPv2aAUVDgqI",
        "colab": {
          "base_uri": "https://localhost:8080/",
          "height": 281
        },
        "outputId": "94f0d453-4f38-4f48-dc5e-3b074327294b"
      },
      "execution_count": null,
      "outputs": [
        {
          "output_type": "display_data",
          "data": {
            "text/plain": [
              "<Figure size 432x288 with 1 Axes>"
            ],
            "image/png": "[encoded data removed]"
          },
          "metadata": {
            "needs_background": "light"
          }
        }
      ]
    },
    {
      "cell_type": "markdown",
      "source": [
        "#Relationship between Poverty and Age for all States"
      ],
      "metadata": {
        "id": "U1faLqimMzIc"
      }
    },
    {
      "cell_type": "code",
      "source": [
        "sns.relplot(\n",
        "    data=police,\n",
        "    y=\"state\",\n",
        "    x=\"pov\",\n",
        "    size=\"age_cat\",\n",
        "    sizes=(2,150),\n",
        "    height=10,\n",
        "    hue=\"gender\",\n",
        "    palette=\"viridis\"\n",
        ")\n",
        "plt.title(\"Relationship between Poverty and \\nAge for all States by Gender\");"
      ],
      "metadata": {
        "id": "k-NNB4A3EC3k",
        "colab": {
          "base_uri": "https://localhost:8080/",
          "height": 760
        },
        "outputId": "496ceeab-4add-427f-fb3d-64b8145cdb04"
      },
      "execution_count": null,
      "outputs": [
        {
          "output_type": "display_data",
          "data": {
            "text/plain": [
              "<Figure size 792.125x720 with 1 Axes>"
            ],
            "image/png": "[encoded data removed]"
          },
          "metadata": {
            "needs_background": "light"
          }
        }
      ]
    },
    {
      "cell_type": "code",
      "source": [
        "police.info()"
      ],
      "metadata": {
        "colab": {
          "base_uri": "https://localhost:8080/"
        },
        "id": "R7UxyRuo0ht1",
        "outputId": "09828fa9-a27e-4e93-cdd6-7b82260bb666"
      },
      "execution_count": null,
      "outputs": [
        {
          "output_type": "stream",
          "name": "stdout",
          "text": [
            "<class 'pandas.core.frame.DataFrame'>\n",
            "Int64Index: 461 entries, 0 to 466\n",
            "Data columns (total 24 columns):\n",
            " #   Column                Non-Null Count  Dtype   \n",
            "---  ------                --------------  -----   \n",
            " 0   age                   461 non-null    int64   \n",
            " 1   gender                461 non-null    object  \n",
            " 2   raceethnicity         461 non-null    object  \n",
            " 3   month                 461 non-null    object  \n",
            " 4   year                  461 non-null    int64   \n",
            " 5   city                  461 non-null    object  \n",
            " 6   state                 461 non-null    object  \n",
            " 7   latitude              461 non-null    float64 \n",
            " 8   longitude             461 non-null    float64 \n",
            " 9   lawenforcementagency  461 non-null    object  \n",
            " 10  cause                 461 non-null    object  \n",
            " 11  armed                 461 non-null    object  \n",
            " 12  pop                   461 non-null    int64   \n",
            " 13  share_white           461 non-null    float64 \n",
            " 14  share_black           461 non-null    float64 \n",
            " 15  share_hispanic        461 non-null    float64 \n",
            " 16  p_income              461 non-null    int64   \n",
            " 17  h_income              461 non-null    float64 \n",
            " 18  county_income         461 non-null    int64   \n",
            " 19  comp_income           461 non-null    float64 \n",
            " 20  pov                   461 non-null    float64 \n",
            " 21  urate                 461 non-null    float64 \n",
            " 22  college               461 non-null    float64 \n",
            " 23  age_cat               461 non-null    category\n",
            "dtypes: category(1), float64(10), int64(5), object(8)\n",
            "memory usage: 103.3+ KB\n"
          ]
        }
      ]
    },
    {
      "cell_type": "markdown",
      "source": [
        "# Is There a Relationship between Unemployment Rate, Income Level and Race?"
      ],
      "metadata": {
        "id": "CZp8KDmfKpRz"
      }
    },
    {
      "cell_type": "code",
      "source": [
        "g=sns.relplot(\n",
        "    data=police,\n",
        "    x=\"urate\",\n",
        "    y=\"p_income\",\n",
        "    col=\"raceethnicity\",\n",
        "    col_wrap=2, #number of plots per row\n",
        "    height=5,\n",
        "    s=20\n",
        ")\n",
        "g.fig.suptitle(\"Unemployment Rate vs Income Level for different Race Ethnicities\", y=1.05);"
      ],
      "metadata": {
        "colab": {
          "base_uri": "https://localhost:8080/",
          "height": 1000
        },
        "id": "KvmcvEyQ1lkV",
        "outputId": "8a037ef8-2c6f-4ad1-db56-e675123f9432"
      },
      "execution_count": null,
      "outputs": [
        {
          "output_type": "display_data",
          "data": {
            "text/plain": [
              "<Figure size 720x1080 with 6 Axes>"
            ],
            "image/png": "[encoded data removed]"
          },
          "metadata": {
            "needs_background": "light"
          }
        }
      ]
    },
    {
      "cell_type": "markdown",
      "source": [
        "#Population Proportion of Deaths by Arm"
      ],
      "metadata": {
        "id": "Eiez-qgrKg0H"
      }
    },
    {
      "cell_type": "code",
      "source": [
        "p3 = police.armed.value_counts().plot(kind='pie', figsize=(8,10))\n",
        "p3.set_title(\"Proportion of Deaths by Arm\");\n",
        "p3;"
      ],
      "metadata": {
        "id": "46X4mHNiKbP0",
        "colab": {
          "base_uri": "https://localhost:8080/",
          "height": 493
        },
        "outputId": "9cd130e4-1065-4849-b977-7edfcdc6dc33"
      },
      "execution_count": null,
      "outputs": [
        {
          "output_type": "display_data",
          "data": {
            "text/plain": [
              "<Figure size 576x720 with 1 Axes>"
            ],
            "image/png": "[encoded data removed]"
          },
          "metadata": {}
        }
      ]
    },
    {
      "cell_type": "markdown",
      "source": [
        "#Box Plot: College Education per Race/Ethnicity"
      ],
      "metadata": {
        "id": "9YHamvaHI2yg"
      }
    },
    {
      "cell_type": "code",
      "source": [
        "sns.catplot(\n",
        "    data=police, \n",
        "    x=\"raceethnicity\",\n",
        "    y=\"college\",\n",
        "    hue='gender',\n",
        "    aspect=1, \n",
        "    kind=\"box\",\n",
        "    height=10,\n",
        "    palette=\"Paired\"\n",
        "    ) \n",
        "\n",
        "plt.title('Race/Ethnicity vs College Education by Gender');"
      ],
      "metadata": {
        "id": "WyCUtamsnYQZ",
        "colab": {
          "base_uri": "https://localhost:8080/",
          "height": 745
        },
        "outputId": "c692408f-b296-4ddd-ab2f-85e03c351c4b"
      },
      "execution_count": null,
      "outputs": [
        {
          "output_type": "display_data",
          "data": {
            "text/plain": [
              "<Figure size 792.125x720 with 1 Axes>"
            ],
            "image/png": "[encoded data removed]"
          },
          "metadata": {
            "needs_background": "light"
          }
        }
      ]
    },
    {
      "cell_type": "markdown",
      "source": [
        "#Machine Learning Applications"
      ],
      "metadata": {
        "id": "2B17NvlWJQHj"
      }
    },
    {
      "cell_type": "code",
      "source": [
        "#creating a test set\n",
        "from sklearn.model_selection import train_test_split\n",
        "\n",
        "train_set, test_set = train_test_split(police, test_size=0.2, random_state=42)"
      ],
      "metadata": {
        "id": "ADWEe5AGnZPb"
      },
      "execution_count": null,
      "outputs": []
    },
    {
      "cell_type": "code",
      "source": [
        "police.info()"
      ],
      "metadata": {
        "id": "zdiN4MqULcxb",
        "colab": {
          "base_uri": "https://localhost:8080/"
        },
        "outputId": "a1821b65-af3d-4439-e824-314700995ab2"
      },
      "execution_count": null,
      "outputs": [
        {
          "output_type": "stream",
          "name": "stdout",
          "text": [
            "<class 'pandas.core.frame.DataFrame'>\n",
            "Int64Index: 461 entries, 0 to 466\n",
            "Data columns (total 24 columns):\n",
            " #   Column                Non-Null Count  Dtype   \n",
            "---  ------                --------------  -----   \n",
            " 0   age                   461 non-null    int64   \n",
            " 1   gender                461 non-null    object  \n",
            " 2   raceethnicity         461 non-null    object  \n",
            " 3   month                 461 non-null    object  \n",
            " 4   year                  461 non-null    int64   \n",
            " 5   city                  461 non-null    object  \n",
            " 6   state                 461 non-null    object  \n",
            " 7   latitude              461 non-null    float64 \n",
            " 8   longitude             461 non-null    float64 \n",
            " 9   lawenforcementagency  461 non-null    object  \n",
            " 10  cause                 461 non-null    object  \n",
            " 11  armed                 461 non-null    object  \n",
            " 12  pop                   461 non-null    int64   \n",
            " 13  share_white           461 non-null    float64 \n",
            " 14  share_black           461 non-null    float64 \n",
            " 15  share_hispanic        461 non-null    float64 \n",
            " 16  p_income              461 non-null    int64   \n",
            " 17  h_income              461 non-null    float64 \n",
            " 18  county_income         461 non-null    int64   \n",
            " 19  comp_income           461 non-null    float64 \n",
            " 20  pov                   461 non-null    float64 \n",
            " 21  urate                 461 non-null    float64 \n",
            " 22  college               461 non-null    float64 \n",
            " 23  age_cat               461 non-null    category\n",
            "dtypes: category(1), float64(10), int64(5), object(8)\n",
            "memory usage: 103.3+ KB\n"
          ]
        }
      ]
    },
    {
      "cell_type": "code",
      "source": [
        "police_ml=police.reset_index()\n",
        "police_ml"
      ],
      "metadata": {
        "colab": {
          "base_uri": "https://localhost:8080/",
          "height": 522
        },
        "id": "b6VpFBYUQchw",
        "outputId": "a058b793-d348-4030-c904-7379271190db"
      },
      "execution_count": null,
      "outputs": [
        {
          "output_type": "execute_result",
          "data": {
            "text/plain": [
              "     index  age  gender    raceethnicity     month  year          city state  \\\n",
              "0        0   16    Male            Black  February  2015     Millbrook    AL   \n",
              "1        1   27    Male            White     April  2015     Pineville    LA   \n",
              "2        2   26    Male            White     March  2015       Kenosha    WI   \n",
              "3        3   25    Male  Hispanic/Latino     March  2015    South Gate    CA   \n",
              "4        4   29    Male            White     March  2015  Munroe Falls    OH   \n",
              "..     ...  ...     ...              ...       ...   ...           ...   ...   \n",
              "456    462   18    Male            Black     April  2015    Portsmouth    VA   \n",
              "457    463   28    Male  Native American     April  2015      Tonasket    WA   \n",
              "458    464   52    Male            White     March  2015        Gaston    NC   \n",
              "459    465   38  Female            Black  February  2015       Oakland    CA   \n",
              "460    466   48    Male          Unknown   January  2015       Fremont    CA   \n",
              "\n",
              "      latitude   longitude  ... share_black share_hispanic p_income  h_income  \\\n",
              "0    32.529577  -86.362829  ...        30.5            5.6    28375   51367.0   \n",
              "1    31.321739  -92.434860  ...        36.2            0.5    14678   27972.0   \n",
              "2    42.583560  -87.835710  ...         7.7           16.8    25286   45365.0   \n",
              "3    33.939298 -118.219463  ...         0.6           98.8    17194   48295.0   \n",
              "4    41.148575  -81.429878  ...         1.4            1.7    33954   68785.0   \n",
              "..         ...         ...  ...         ...            ...      ...       ...   \n",
              "456  36.829014  -76.341438  ...        53.8            0.0    25262   27418.0   \n",
              "457  48.708542 -119.436829  ...         0.4           20.2    18470   35608.0   \n",
              "458  35.205776  -81.240669  ...        10.1            0.3    21175   38200.0   \n",
              "459  37.827129 -122.284492  ...        24.9           37.1    26971   63052.0   \n",
              "460  37.586471 -122.060010  ...         4.0           12.3    33590   88940.0   \n",
              "\n",
              "     county_income  comp_income   pov     urate   college  age_cat  \n",
              "0            54766     0.937936  14.1  0.097686  0.168510     0-20  \n",
              "1            40930     0.683411  28.8  0.065724  0.111402    21-30  \n",
              "2            54930     0.825869  14.6  0.166293  0.147312    21-30  \n",
              "3            55909     0.863814  11.7  0.124827  0.050133    21-30  \n",
              "4            49669     1.384868   1.9  0.063550  0.403954    21-30  \n",
              "..             ...          ...   ...       ...       ...      ...  \n",
              "456          46166     0.593900  35.2  0.152047  0.120553     0-20  \n",
              "457          40368     0.882085  27.3  0.133650  0.174525    21-30  \n",
              "458          42017     0.909156  28.5  0.256150  0.072764    41-60  \n",
              "459          72112     0.874362  23.9  0.069601  0.396476    31-40  \n",
              "460          72112     1.233359   6.1  0.080912  0.435773    41-60  \n",
              "\n",
              "[461 rows x 25 columns]"
            ],
            "text/html": [
              "\n",
              "  <div id=\"df-34fc998b-12c3-432b-8fba-ca83ca9d0988\">\n",
              "    <div class=\"colab-df-container\">\n",
              "      <div>\n",
              "<style scoped>\n",
              "    .dataframe tbody tr th:only-of-type {\n",
              "        vertical-align: middle;\n",
              "    }\n",
              "\n",
              "    .dataframe tbody tr th {\n",
              "        vertical-align: top;\n",
              "    }\n",
              "\n",
              "    .dataframe thead th {\n",
              "        text-align: right;\n",
              "    }\n",
              "</style>\n",
              "<table border=\"1\" class=\"dataframe\">\n",
              "  <thead>\n",
              "    <tr style=\"text-align: right;\">\n",
              "      <th></th>\n",
              "      <th>index</th>\n",
              "      <th>age</th>\n",
              "      <th>gender</th>\n",
              "      <th>raceethnicity</th>\n",
              "      <th>month</th>\n",
              "      <th>year</th>\n",
              "      <th>city</th>\n",
              "      <th>state</th>\n",
              "      <th>latitude</th>\n",
              "      <th>longitude</th>\n",
              "      <th>...</th>\n",
              "      <th>share_black</th>\n",
              "      <th>share_hispanic</th>\n",
              "      <th>p_income</th>\n",
              "      <th>h_income</th>\n",
              "      <th>county_income</th>\n",
              "      <th>comp_income</th>\n",
              "      <th>pov</th>\n",
              "      <th>urate</th>\n",
              "      <th>college</th>\n",
              "      <th>age_cat</th>\n",
              "    </tr>\n",
              "  </thead>\n",
              "  <tbody>\n",
              "    <tr>\n",
              "      <th>0</th>\n",
              "      <td>0</td>\n",
              "      <td>16</td>\n",
              "      <td>Male</td>\n",
              "      <td>Black</td>\n",
              "      <td>February</td>\n",
              "      <td>2015</td>\n",
              "      <td>Millbrook</td>\n",
              "      <td>AL</td>\n",
              "      <td>32.529577</td>\n",
              "      <td>-86.362829</td>\n",
              "      <td>...</td>\n",
              "      <td>30.5</td>\n",
              "      <td>5.6</td>\n",
              "      <td>28375</td>\n",
              "      <td>51367.0</td>\n",
              "      <td>54766</td>\n",
              "      <td>0.937936</td>\n",
              "      <td>14.1</td>\n",
              "      <td>0.097686</td>\n",
              "      <td>0.168510</td>\n",
              "      <td>0-20</td>\n",
              "    </tr>\n",
              "    <tr>\n",
              "      <th>1</th>\n",
              "      <td>1</td>\n",
              "      <td>27</td>\n",
              "      <td>Male</td>\n",
              "      <td>White</td>\n",
              "      <td>April</td>\n",
              "      <td>2015</td>\n",
              "      <td>Pineville</td>\n",
              "      <td>LA</td>\n",
              "      <td>31.321739</td>\n",
              "      <td>-92.434860</td>\n",
              "      <td>...</td>\n",
              "      <td>36.2</td>\n",
              "      <td>0.5</td>\n",
              "      <td>14678</td>\n",
              "      <td>27972.0</td>\n",
              "      <td>40930</td>\n",
              "      <td>0.683411</td>\n",
              "      <td>28.8</td>\n",
              "      <td>0.065724</td>\n",
              "      <td>0.111402</td>\n",
              "      <td>21-30</td>\n",
              "    </tr>\n",
              "    <tr>\n",
              "      <th>2</th>\n",
              "      <td>2</td>\n",
              "      <td>26</td>\n",
              "      <td>Male</td>\n",
              "      <td>White</td>\n",
              "      <td>March</td>\n",
              "      <td>2015</td>\n",
              "      <td>Kenosha</td>\n",
              "      <td>WI</td>\n",
              "      <td>42.583560</td>\n",
              "      <td>-87.835710</td>\n",
              "      <td>...</td>\n",
              "      <td>7.7</td>\n",
              "      <td>16.8</td>\n",
              "      <td>25286</td>\n",
              "      <td>45365.0</td>\n",
              "      <td>54930</td>\n",
              "      <td>0.825869</td>\n",
              "      <td>14.6</td>\n",
              "      <td>0.166293</td>\n",
              "      <td>0.147312</td>\n",
              "      <td>21-30</td>\n",
              "    </tr>\n",
              "    <tr>\n",
              "      <th>3</th>\n",
              "      <td>3</td>\n",
              "      <td>25</td>\n",
              "      <td>Male</td>\n",
              "      <td>Hispanic/Latino</td>\n",
              "      <td>March</td>\n",
              "      <td>2015</td>\n",
              "      <td>South Gate</td>\n",
              "      <td>CA</td>\n",
              "      <td>33.939298</td>\n",
              "      <td>-118.219463</td>\n",
              "      <td>...</td>\n",
              "      <td>0.6</td>\n",
              "      <td>98.8</td>\n",
              "      <td>17194</td>\n",
              "      <td>48295.0</td>\n",
              "      <td>55909</td>\n",
              "      <td>0.863814</td>\n",
              "      <td>11.7</td>\n",
              "      <td>0.124827</td>\n",
              "      <td>0.050133</td>\n",
              "      <td>21-30</td>\n",
              "    </tr>\n",
              "    <tr>\n",
              "      <th>4</th>\n",
              "      <td>4</td>\n",
              "      <td>29</td>\n",
              "      <td>Male</td>\n",
              "      <td>White</td>\n",
              "      <td>March</td>\n",
              "      <td>2015</td>\n",
              "      <td>Munroe Falls</td>\n",
              "      <td>OH</td>\n",
              "      <td>41.148575</td>\n",
              "      <td>-81.429878</td>\n",
              "      <td>...</td>\n",
              "      <td>1.4</td>\n",
              "      <td>1.7</td>\n",
              "      <td>33954</td>\n",
              "      <td>68785.0</td>\n",
              "      <td>49669</td>\n",
              "      <td>1.384868</td>\n",
              "      <td>1.9</td>\n",
              "      <td>0.063550</td>\n",
              "      <td>0.403954</td>\n",
              "      <td>21-30</td>\n",
              "    </tr>\n",
              "    <tr>\n",
              "      <th>...</th>\n",
              "      <td>...</td>\n",
              "      <td>...</td>\n",
              "      <td>...</td>\n",
              "      <td>...</td>\n",
              "      <td>...</td>\n",
              "      <td>...</td>\n",
              "      <td>...</td>\n",
              "      <td>...</td>\n",
              "      <td>...</td>\n",
              "      <td>...</td>\n",
              "      <td>...</td>\n",
              "      <td>...</td>\n",
              "      <td>...</td>\n",
              "      <td>...</td>\n",
              "      <td>...</td>\n",
              "      <td>...</td>\n",
              "      <td>...</td>\n",
              "      <td>...</td>\n",
              "      <td>...</td>\n",
              "      <td>...</td>\n",
              "      <td>...</td>\n",
              "    </tr>\n",
              "    <tr>\n",
              "      <th>456</th>\n",
              "      <td>462</td>\n",
              "      <td>18</td>\n",
              "      <td>Male</td>\n",
              "      <td>Black</td>\n",
              "      <td>April</td>\n",
              "      <td>2015</td>\n",
              "      <td>Portsmouth</td>\n",
              "      <td>VA</td>\n",
              "      <td>36.829014</td>\n",
              "      <td>-76.341438</td>\n",
              "      <td>...</td>\n",
              "      <td>53.8</td>\n",
              "      <td>0.0</td>\n",
              "      <td>25262</td>\n",
              "      <td>27418.0</td>\n",
              "      <td>46166</td>\n",
              "      <td>0.593900</td>\n",
              "      <td>35.2</td>\n",
              "      <td>0.152047</td>\n",
              "      <td>0.120553</td>\n",
              "      <td>0-20</td>\n",
              "    </tr>\n",
              "    <tr>\n",
              "      <th>457</th>\n",
              "      <td>463</td>\n",
              "      <td>28</td>\n",
              "      <td>Male</td>\n",
              "      <td>Native American</td>\n",
              "      <td>April</td>\n",
              "      <td>2015</td>\n",
              "      <td>Tonasket</td>\n",
              "      <td>WA</td>\n",
              "      <td>48.708542</td>\n",
              "      <td>-119.436829</td>\n",
              "      <td>...</td>\n",
              "      <td>0.4</td>\n",
              "      <td>20.2</td>\n",
              "      <td>18470</td>\n",
              "      <td>35608.0</td>\n",
              "      <td>40368</td>\n",
              "      <td>0.882085</td>\n",
              "      <td>27.3</td>\n",
              "      <td>0.133650</td>\n",
              "      <td>0.174525</td>\n",
              "      <td>21-30</td>\n",
              "    </tr>\n",
              "    <tr>\n",
              "      <th>458</th>\n",
              "      <td>464</td>\n",
              "      <td>52</td>\n",
              "      <td>Male</td>\n",
              "      <td>White</td>\n",
              "      <td>March</td>\n",
              "      <td>2015</td>\n",
              "      <td>Gaston</td>\n",
              "      <td>NC</td>\n",
              "      <td>35.205776</td>\n",
              "      <td>-81.240669</td>\n",
              "      <td>...</td>\n",
              "      <td>10.1</td>\n",
              "      <td>0.3</td>\n",
              "      <td>21175</td>\n",
              "      <td>38200.0</td>\n",
              "      <td>42017</td>\n",
              "      <td>0.909156</td>\n",
              "      <td>28.5</td>\n",
              "      <td>0.256150</td>\n",
              "      <td>0.072764</td>\n",
              "      <td>41-60</td>\n",
              "    </tr>\n",
              "    <tr>\n",
              "      <th>459</th>\n",
              "      <td>465</td>\n",
              "      <td>38</td>\n",
              "      <td>Female</td>\n",
              "      <td>Black</td>\n",
              "      <td>February</td>\n",
              "      <td>2015</td>\n",
              "      <td>Oakland</td>\n",
              "      <td>CA</td>\n",
              "      <td>37.827129</td>\n",
              "      <td>-122.284492</td>\n",
              "      <td>...</td>\n",
              "      <td>24.9</td>\n",
              "      <td>37.1</td>\n",
              "      <td>26971</td>\n",
              "      <td>63052.0</td>\n",
              "      <td>72112</td>\n",
              "      <td>0.874362</td>\n",
              "      <td>23.9</td>\n",
              "      <td>0.069601</td>\n",
              "      <td>0.396476</td>\n",
              "      <td>31-40</td>\n",
              "    </tr>\n",
              "    <tr>\n",
              "      <th>460</th>\n",
              "      <td>466</td>\n",
              "      <td>48</td>\n",
              "      <td>Male</td>\n",
              "      <td>Unknown</td>\n",
              "      <td>January</td>\n",
              "      <td>2015</td>\n",
              "      <td>Fremont</td>\n",
              "      <td>CA</td>\n",
              "      <td>37.586471</td>\n",
              "      <td>-122.060010</td>\n",
              "      <td>...</td>\n",
              "      <td>4.0</td>\n",
              "      <td>12.3</td>\n",
              "      <td>33590</td>\n",
              "      <td>88940.0</td>\n",
              "      <td>72112</td>\n",
              "      <td>1.233359</td>\n",
              "      <td>6.1</td>\n",
              "      <td>0.080912</td>\n",
              "      <td>0.435773</td>\n",
              "      <td>41-60</td>\n",
              "    </tr>\n",
              "  </tbody>\n",
              "</table>\n",
              "<p>461 rows × 25 columns</p>\n",
              "</div>\n",
              "      <button class=\"colab-df-convert\" onclick=\"convertToInteractive('df-34fc998b-12c3-432b-8fba-ca83ca9d0988')\"\n",
              "              title=\"Convert this dataframe to an interactive table.\"\n",
              "              style=\"display:none;\">\n",
              "        \n",
              "  <svg xmlns=\"http://www.w3.org/2000/svg\" height=\"24px\"viewBox=\"0 0 24 24\"\n",
              "       width=\"24px\">\n",
              "    <path d=\"M0 0h24v24H0V0z\" fill=\"none\"/>\n",
              "    <path d=\"M18.56 5.44l.94 2.06.94-2.06 2.06-.94-2.06-.94-.94-2.06-.94 2.06-2.06.94zm-11 1L8.5 8.5l.94-2.06 2.06-.94-2.06-.94L8.5 2.5l-.94 2.06-2.06.94zm10 10l.94 2.06.94-2.06 2.06-.94-2.06-.94-.94-2.06-.94 2.06-2.06.94z\"/><path d=\"M17.41 7.96l-1.37-1.37c-.4-.4-.92-.59-1.43-.59-.52 0-1.04.2-1.43.59L10.3 9.45l-7.72 7.72c-.78.78-.78 2.05 0 2.83L4 21.41c.39.39.9.59 1.41.59.51 0 1.02-.2 1.41-.59l7.78-7.78 2.81-2.81c.8-.78.8-2.07 0-2.86zM5.41 20L4 18.59l7.72-7.72 1.47 1.35L5.41 20z\"/>\n",
              "  </svg>\n",
              "      </button>\n",
              "      \n",
              "  <style>\n",
              "    .colab-df-container {\n",
              "      display:flex;\n",
              "      flex-wrap:wrap;\n",
              "      gap: 12px;\n",
              "    }\n",
              "\n",
              "    .colab-df-convert {\n",
              "      background-color: #E8F0FE;\n",
              "      border: none;\n",
              "      border-radius: 50%;\n",
              "      cursor: pointer;\n",
              "      display: none;\n",
              "      fill: #1967D2;\n",
              "      height: 32px;\n",
              "      padding: 0 0 0 0;\n",
              "      width: 32px;\n",
              "    }\n",
              "\n",
              "    .colab-df-convert:hover {\n",
              "      background-color: #E2EBFA;\n",
              "      box-shadow: 0px 1px 2px rgba(60, 64, 67, 0.3), 0px 1px 3px 1px rgba(60, 64, 67, 0.15);\n",
              "      fill: #174EA6;\n",
              "    }\n",
              "\n",
              "    [theme=dark] .colab-df-convert {\n",
              "      background-color: #3B4455;\n",
              "      fill: #D2E3FC;\n",
              "    }\n",
              "\n",
              "    [theme=dark] .colab-df-convert:hover {\n",
              "      background-color: #434B5C;\n",
              "      box-shadow: 0px 1px 3px 1px rgba(0, 0, 0, 0.15);\n",
              "      filter: drop-shadow(0px 1px 2px rgba(0, 0, 0, 0.3));\n",
              "      fill: #FFFFFF;\n",
              "    }\n",
              "  </style>\n",
              "\n",
              "      <script>\n",
              "        const buttonEl =\n",
              "          document.querySelector('#df-34fc998b-12c3-432b-8fba-ca83ca9d0988 button.colab-df-convert');\n",
              "        buttonEl.style.display =\n",
              "          google.colab.kernel.accessAllowed ? 'block' : 'none';\n",
              "\n",
              "        async function convertToInteractive(key) {\n",
              "          const element = document.querySelector('#df-34fc998b-12c3-432b-8fba-ca83ca9d0988');\n",
              "          const dataTable =\n",
              "            await google.colab.kernel.invokeFunction('convertToInteractive',\n",
              "                                                     [key], {});\n",
              "          if (!dataTable) return;\n",
              "\n",
              "          const docLinkHtml = 'Like what you see? Visit the ' +\n",
              "            '<a target=\"_blank\" href=https://colab.research.google.com/notebooks/data_table.ipynb>data table notebook</a>'\n",
              "            + ' to learn more about interactive tables.';\n",
              "          element.innerHTML = '';\n",
              "          dataTable['output_type'] = 'display_data';\n",
              "          await google.colab.output.renderOutput(dataTable, element);\n",
              "          const docLink = document.createElement('div');\n",
              "          docLink.innerHTML = docLinkHtml;\n",
              "          element.appendChild(docLink);\n",
              "        }\n",
              "      </script>\n",
              "    </div>\n",
              "  </div>\n",
              "  "
            ]
          },
          "metadata": {},
          "execution_count": 22
        }
      ]
    },
    {
      "cell_type": "code",
      "source": [
        "police_ml.drop(columns=\"index\", inplace=True)"
      ],
      "metadata": {
        "id": "m9-rTwCKU1Yg"
      },
      "execution_count": null,
      "outputs": []
    },
    {
      "cell_type": "code",
      "source": [
        "police_ml.armed.unique()"
      ],
      "metadata": {
        "colab": {
          "base_uri": "https://localhost:8080/"
        },
        "id": "e8ntg3uEVd8A",
        "outputId": "3b9c2ae7-517e-4f45-f17b-770ee3ec3b3d"
      },
      "execution_count": null,
      "outputs": [
        {
          "output_type": "execute_result",
          "data": {
            "text/plain": [
              "array(['No', 'Firearm', 'Non-lethal firearm', 'Other', 'Knife', 'Vehicle',\n",
              "       'Unknown', 'Disputed'], dtype=object)"
            ]
          },
          "metadata": {},
          "execution_count": 24
        }
      ]
    },
    {
      "cell_type": "markdown",
      "source": [
        "Convert armed category to a numerical value"
      ],
      "metadata": {
        "id": "Za68wTJ94AES"
      }
    },
    {
      "cell_type": "code",
      "source": [
        "police_ml[\"is_armed\"] = df.armed.apply(lambda x: 0 if x=='No' else 1)"
      ],
      "metadata": {
        "id": "N9sWUkJpV5wD"
      },
      "execution_count": null,
      "outputs": []
    },
    {
      "cell_type": "code",
      "source": [
        "police_ml[\"is_armed\"].value_counts()"
      ],
      "metadata": {
        "colab": {
          "base_uri": "https://localhost:8080/"
        },
        "id": "Sr6rK0BcWB8A",
        "outputId": "9ff7bcca-4ffc-4328-8de5-72a154200bab"
      },
      "execution_count": null,
      "outputs": [
        {
          "output_type": "execute_result",
          "data": {
            "text/plain": [
              "1    360\n",
              "0    101\n",
              "Name: is_armed, dtype: int64"
            ]
          },
          "metadata": {},
          "execution_count": 26
        }
      ]
    },
    {
      "cell_type": "code",
      "source": [
        "from sklearn.model_selection import StratifiedShuffleSplit\n",
        "\n",
        "split = StratifiedShuffleSplit(n_splits=1, test_size=0.2, random_state=42)\n",
        "for train_index, test_index in split.split(police_ml, police_ml[\"age_cat\"]):\n",
        "    strat_train_set = police_ml.loc[train_index]\n",
        "    strat_test_set = police_ml.loc[test_index]\n",
        "\n",
        "strat_test_set[\"age_cat\"].value_counts() / len(strat_test_set)"
      ],
      "metadata": {
        "id": "DghOLASOnZdi",
        "colab": {
          "base_uri": "https://localhost:8080/"
        },
        "outputId": "bfafdbe4-0919-454e-c5ca-6a9734a7f65e"
      },
      "execution_count": null,
      "outputs": [
        {
          "output_type": "execute_result",
          "data": {
            "text/plain": [
              "31-40    0.322581\n",
              "41-60    0.290323\n",
              "21-30    0.268817\n",
              "0-20     0.064516\n",
              "61+      0.053763\n",
              "Name: age_cat, dtype: float64"
            ]
          },
          "metadata": {},
          "execution_count": 27
        }
      ]
    },
    {
      "cell_type": "code",
      "source": [
        "def pov_age_proportions(data):\n",
        "    return data[\"age_cat\"].value_counts() / len(data)\n",
        "\n",
        "train_set, test_set = train_test_split(police_ml, test_size=0.2, random_state=42)\n",
        "\n",
        "compare_props = pd.DataFrame({\n",
        "    \"Overall\": pov_age_proportions(police_ml),\n",
        "    \"Stratified\": pov_age_proportions(strat_test_set),\n",
        "    \"Random\": pov_age_proportions(test_set),\n",
        "}).sort_index()\n",
        "compare_props[\"Rand. %error\"] = 100 * compare_props[\"Random\"] / compare_props[\"Overall\"] - 100\n",
        "compare_props[\"Strat. %error\"] = 100 * compare_props[\"Stratified\"] / compare_props[\"Overall\"] - 100"
      ],
      "metadata": {
        "id": "uf05wzabUEww"
      },
      "execution_count": null,
      "outputs": []
    },
    {
      "cell_type": "code",
      "source": [
        "compare_props"
      ],
      "metadata": {
        "colab": {
          "base_uri": "https://localhost:8080/",
          "height": 206
        },
        "id": "R7euSCUUUSyY",
        "outputId": "bf76f131-9eea-48c7-b91d-0fc33d150473"
      },
      "execution_count": null,
      "outputs": [
        {
          "output_type": "execute_result",
          "data": {
            "text/plain": [
              "        Overall  Stratified    Random  Rand. %error  Strat. %error\n",
              "0-20   0.062907    0.064516  0.064516      2.558398       2.558398\n",
              "21-30  0.275488    0.268817  0.344086     24.900516      -2.421472\n",
              "31-40  0.318872    0.322581  0.236559    -25.813766       1.163046\n",
              "41-60  0.288503    0.290323  0.301075      4.357668       0.630609\n",
              "61+    0.054230    0.053763  0.053763     -0.860215      -0.860215"
            ],
            "text/html": [
              "\n",
              "  <div id=\"df-44b06fcc-daaf-4013-ab8a-f190dc1af9b5\">\n",
              "    <div class=\"colab-df-container\">\n",
              "      <div>\n",
              "<style scoped>\n",
              "    .dataframe tbody tr th:only-of-type {\n",
              "        vertical-align: middle;\n",
              "    }\n",
              "\n",
              "    .dataframe tbody tr th {\n",
              "        vertical-align: top;\n",
              "    }\n",
              "\n",
              "    .dataframe thead th {\n",
              "        text-align: right;\n",
              "    }\n",
              "</style>\n",
              "<table border=\"1\" class=\"dataframe\">\n",
              "  <thead>\n",
              "    <tr style=\"text-align: right;\">\n",
              "      <th></th>\n",
              "      <th>Overall</th>\n",
              "      <th>Stratified</th>\n",
              "      <th>Random</th>\n",
              "      <th>Rand. %error</th>\n",
              "      <th>Strat. %error</th>\n",
              "    </tr>\n",
              "  </thead>\n",
              "  <tbody>\n",
              "    <tr>\n",
              "      <th>0-20</th>\n",
              "      <td>0.062907</td>\n",
              "      <td>0.064516</td>\n",
              "      <td>0.064516</td>\n",
              "      <td>2.558398</td>\n",
              "      <td>2.558398</td>\n",
              "    </tr>\n",
              "    <tr>\n",
              "      <th>21-30</th>\n",
              "      <td>0.275488</td>\n",
              "      <td>0.268817</td>\n",
              "      <td>0.344086</td>\n",
              "      <td>24.900516</td>\n",
              "      <td>-2.421472</td>\n",
              "    </tr>\n",
              "    <tr>\n",
              "      <th>31-40</th>\n",
              "      <td>0.318872</td>\n",
              "      <td>0.322581</td>\n",
              "      <td>0.236559</td>\n",
              "      <td>-25.813766</td>\n",
              "      <td>1.163046</td>\n",
              "    </tr>\n",
              "    <tr>\n",
              "      <th>41-60</th>\n",
              "      <td>0.288503</td>\n",
              "      <td>0.290323</td>\n",
              "      <td>0.301075</td>\n",
              "      <td>4.357668</td>\n",
              "      <td>0.630609</td>\n",
              "    </tr>\n",
              "    <tr>\n",
              "      <th>61+</th>\n",
              "      <td>0.054230</td>\n",
              "      <td>0.053763</td>\n",
              "      <td>0.053763</td>\n",
              "      <td>-0.860215</td>\n",
              "      <td>-0.860215</td>\n",
              "    </tr>\n",
              "  </tbody>\n",
              "</table>\n",
              "</div>\n",
              "      <button class=\"colab-df-convert\" onclick=\"convertToInteractive('df-44b06fcc-daaf-4013-ab8a-f190dc1af9b5')\"\n",
              "              title=\"Convert this dataframe to an interactive table.\"\n",
              "              style=\"display:none;\">\n",
              "        \n",
              "  <svg xmlns=\"http://www.w3.org/2000/svg\" height=\"24px\"viewBox=\"0 0 24 24\"\n",
              "       width=\"24px\">\n",
              "    <path d=\"M0 0h24v24H0V0z\" fill=\"none\"/>\n",
              "    <path d=\"M18.56 5.44l.94 2.06.94-2.06 2.06-.94-2.06-.94-.94-2.06-.94 2.06-2.06.94zm-11 1L8.5 8.5l.94-2.06 2.06-.94-2.06-.94L8.5 2.5l-.94 2.06-2.06.94zm10 10l.94 2.06.94-2.06 2.06-.94-2.06-.94-.94-2.06-.94 2.06-2.06.94z\"/><path d=\"M17.41 7.96l-1.37-1.37c-.4-.4-.92-.59-1.43-.59-.52 0-1.04.2-1.43.59L10.3 9.45l-7.72 7.72c-.78.78-.78 2.05 0 2.83L4 21.41c.39.39.9.59 1.41.59.51 0 1.02-.2 1.41-.59l7.78-7.78 2.81-2.81c.8-.78.8-2.07 0-2.86zM5.41 20L4 18.59l7.72-7.72 1.47 1.35L5.41 20z\"/>\n",
              "  </svg>\n",
              "      </button>\n",
              "      \n",
              "  <style>\n",
              "    .colab-df-container {\n",
              "      display:flex;\n",
              "      flex-wrap:wrap;\n",
              "      gap: 12px;\n",
              "    }\n",
              "\n",
              "    .colab-df-convert {\n",
              "      background-color: #E8F0FE;\n",
              "      border: none;\n",
              "      border-radius: 50%;\n",
              "      cursor: pointer;\n",
              "      display: none;\n",
              "      fill: #1967D2;\n",
              "      height: 32px;\n",
              "      padding: 0 0 0 0;\n",
              "      width: 32px;\n",
              "    }\n",
              "\n",
              "    .colab-df-convert:hover {\n",
              "      background-color: #E2EBFA;\n",
              "      box-shadow: 0px 1px 2px rgba(60, 64, 67, 0.3), 0px 1px 3px 1px rgba(60, 64, 67, 0.15);\n",
              "      fill: #174EA6;\n",
              "    }\n",
              "\n",
              "    [theme=dark] .colab-df-convert {\n",
              "      background-color: #3B4455;\n",
              "      fill: #D2E3FC;\n",
              "    }\n",
              "\n",
              "    [theme=dark] .colab-df-convert:hover {\n",
              "      background-color: #434B5C;\n",
              "      box-shadow: 0px 1px 3px 1px rgba(0, 0, 0, 0.15);\n",
              "      filter: drop-shadow(0px 1px 2px rgba(0, 0, 0, 0.3));\n",
              "      fill: #FFFFFF;\n",
              "    }\n",
              "  </style>\n",
              "\n",
              "      <script>\n",
              "        const buttonEl =\n",
              "          document.querySelector('#df-44b06fcc-daaf-4013-ab8a-f190dc1af9b5 button.colab-df-convert');\n",
              "        buttonEl.style.display =\n",
              "          google.colab.kernel.accessAllowed ? 'block' : 'none';\n",
              "\n",
              "        async function convertToInteractive(key) {\n",
              "          const element = document.querySelector('#df-44b06fcc-daaf-4013-ab8a-f190dc1af9b5');\n",
              "          const dataTable =\n",
              "            await google.colab.kernel.invokeFunction('convertToInteractive',\n",
              "                                                     [key], {});\n",
              "          if (!dataTable) return;\n",
              "\n",
              "          const docLinkHtml = 'Like what you see? Visit the ' +\n",
              "            '<a target=\"_blank\" href=https://colab.research.google.com/notebooks/data_table.ipynb>data table notebook</a>'\n",
              "            + ' to learn more about interactive tables.';\n",
              "          element.innerHTML = '';\n",
              "          dataTable['output_type'] = 'display_data';\n",
              "          await google.colab.output.renderOutput(dataTable, element);\n",
              "          const docLink = document.createElement('div');\n",
              "          docLink.innerHTML = docLinkHtml;\n",
              "          element.appendChild(docLink);\n",
              "        }\n",
              "      </script>\n",
              "    </div>\n",
              "  </div>\n",
              "  "
            ]
          },
          "metadata": {},
          "execution_count": 29
        }
      ]
    },
    {
      "cell_type": "code",
      "source": [
        "police_ml['pov'].max()"
      ],
      "metadata": {
        "colab": {
          "base_uri": "https://localhost:8080/"
        },
        "id": "1DNhIYOyvPzi",
        "outputId": "200d6068-68b9-4e53-de23-9fb08fd2c998"
      },
      "execution_count": null,
      "outputs": [
        {
          "output_type": "execute_result",
          "data": {
            "text/plain": [
              "79.2"
            ]
          },
          "metadata": {},
          "execution_count": 78
        }
      ]
    },
    {
      "cell_type": "code",
      "source": [
        "police_ml['pov_cat'] = pd.cut(police_ml['pov'],\n",
        "                       bins=[0.0, 20, 30, 40, 60, 80],\n",
        "                       labels=['0-20', '21-30', '31-40', '41-60', '61+'])"
      ],
      "metadata": {
        "id": "O5NHESMoRxHk"
      },
      "execution_count": null,
      "outputs": []
    },
    {
      "cell_type": "code",
      "source": [
        "from sklearn.model_selection import StratifiedShuffleSplit\n",
        "\n",
        "split = StratifiedShuffleSplit(n_splits=1, test_size=0.2, random_state=42)\n",
        "for train_index, test_index in split.split(police_ml, police_ml[\"pov_cat\"]):\n",
        "    strat_train_set2 = police_ml.loc[train_index]\n",
        "    strat_test_set2 = police_ml.loc[test_index]\n",
        "\n",
        "strat_test_set2[\"pov_cat\"].value_counts() / len(strat_test_set2)"
      ],
      "metadata": {
        "id": "VQthwK17nZyX",
        "colab": {
          "base_uri": "https://localhost:8080/"
        },
        "outputId": "09e55a21-6ac2-4c23-fd71-ea4f0217b543"
      },
      "execution_count": null,
      "outputs": [
        {
          "output_type": "execute_result",
          "data": {
            "text/plain": [
              "0-20     0.548387\n",
              "21-30    0.215054\n",
              "31-40    0.139785\n",
              "41-60    0.086022\n",
              "61+      0.010753\n",
              "Name: pov_cat, dtype: float64"
            ]
          },
          "metadata": {},
          "execution_count": 31
        }
      ]
    },
    {
      "cell_type": "code",
      "source": [
        "def pov_cat_proportions(data):\n",
        "    return data[\"pov_cat\"].value_counts() / len(data)\n",
        "\n",
        "train_set, test_set = train_test_split(police_ml, test_size=0.2, random_state=42)\n",
        "\n",
        "compare_props2 = pd.DataFrame({\n",
        "    \"Overall\": pov_cat_proportions(police_ml),\n",
        "    \"Stratified\": pov_cat_proportions(strat_test_set2),\n",
        "    \"Random\": pov_cat_proportions(test_set),\n",
        "}).sort_index()\n",
        "compare_props2[\"Rand. %error\"] = 100 * compare_props2[\"Random\"] / compare_props2[\"Overall\"] - 100\n",
        "compare_props2[\"Strat. %error\"] = 100 * compare_props2[\"Stratified\"] / compare_props2[\"Overall\"] - 100\n"
      ],
      "metadata": {
        "id": "lt0DsG1DnaDx"
      },
      "execution_count": null,
      "outputs": []
    },
    {
      "cell_type": "code",
      "source": [
        "compare_props2"
      ],
      "metadata": {
        "id": "jy4gPrjRnaVx",
        "colab": {
          "base_uri": "https://localhost:8080/",
          "height": 206
        },
        "outputId": "e2376f78-cf9e-426e-91d0-3e4abb68274c"
      },
      "execution_count": null,
      "outputs": [
        {
          "output_type": "execute_result",
          "data": {
            "text/plain": [
              "        Overall  Stratified    Random  Rand. %error  Strat. %error\n",
              "0-20   0.550976    0.548387  0.505376     -8.276183      -0.469901\n",
              "21-30  0.210412    0.215054  0.225806      7.316262       2.205964\n",
              "31-40  0.145336    0.139785  0.161290     10.977371      -3.819612\n",
              "41-60  0.086768    0.086022  0.096774     11.532258      -0.860215\n",
              "61+    0.006508    0.010753  0.010753     65.232975      65.232975"
            ],
            "text/html": [
              "\n",
              "  <div id=\"df-366848f8-cd9c-4006-b776-678251520ee9\">\n",
              "    <div class=\"colab-df-container\">\n",
              "      <div>\n",
              "<style scoped>\n",
              "    .dataframe tbody tr th:only-of-type {\n",
              "        vertical-align: middle;\n",
              "    }\n",
              "\n",
              "    .dataframe tbody tr th {\n",
              "        vertical-align: top;\n",
              "    }\n",
              "\n",
              "    .dataframe thead th {\n",
              "        text-align: right;\n",
              "    }\n",
              "</style>\n",
              "<table border=\"1\" class=\"dataframe\">\n",
              "  <thead>\n",
              "    <tr style=\"text-align: right;\">\n",
              "      <th></th>\n",
              "      <th>Overall</th>\n",
              "      <th>Stratified</th>\n",
              "      <th>Random</th>\n",
              "      <th>Rand. %error</th>\n",
              "      <th>Strat. %error</th>\n",
              "    </tr>\n",
              "  </thead>\n",
              "  <tbody>\n",
              "    <tr>\n",
              "      <th>0-20</th>\n",
              "      <td>0.550976</td>\n",
              "      <td>0.548387</td>\n",
              "      <td>0.505376</td>\n",
              "      <td>-8.276183</td>\n",
              "      <td>-0.469901</td>\n",
              "    </tr>\n",
              "    <tr>\n",
              "      <th>21-30</th>\n",
              "      <td>0.210412</td>\n",
              "      <td>0.215054</td>\n",
              "      <td>0.225806</td>\n",
              "      <td>7.316262</td>\n",
              "      <td>2.205964</td>\n",
              "    </tr>\n",
              "    <tr>\n",
              "      <th>31-40</th>\n",
              "      <td>0.145336</td>\n",
              "      <td>0.139785</td>\n",
              "      <td>0.161290</td>\n",
              "      <td>10.977371</td>\n",
              "      <td>-3.819612</td>\n",
              "    </tr>\n",
              "    <tr>\n",
              "      <th>41-60</th>\n",
              "      <td>0.086768</td>\n",
              "      <td>0.086022</td>\n",
              "      <td>0.096774</td>\n",
              "      <td>11.532258</td>\n",
              "      <td>-0.860215</td>\n",
              "    </tr>\n",
              "    <tr>\n",
              "      <th>61+</th>\n",
              "      <td>0.006508</td>\n",
              "      <td>0.010753</td>\n",
              "      <td>0.010753</td>\n",
              "      <td>65.232975</td>\n",
              "      <td>65.232975</td>\n",
              "    </tr>\n",
              "  </tbody>\n",
              "</table>\n",
              "</div>\n",
              "      <button class=\"colab-df-convert\" onclick=\"convertToInteractive('df-366848f8-cd9c-4006-b776-678251520ee9')\"\n",
              "              title=\"Convert this dataframe to an interactive table.\"\n",
              "              style=\"display:none;\">\n",
              "        \n",
              "  <svg xmlns=\"http://www.w3.org/2000/svg\" height=\"24px\"viewBox=\"0 0 24 24\"\n",
              "       width=\"24px\">\n",
              "    <path d=\"M0 0h24v24H0V0z\" fill=\"none\"/>\n",
              "    <path d=\"M18.56 5.44l.94 2.06.94-2.06 2.06-.94-2.06-.94-.94-2.06-.94 2.06-2.06.94zm-11 1L8.5 8.5l.94-2.06 2.06-.94-2.06-.94L8.5 2.5l-.94 2.06-2.06.94zm10 10l.94 2.06.94-2.06 2.06-.94-2.06-.94-.94-2.06-.94 2.06-2.06.94z\"/><path d=\"M17.41 7.96l-1.37-1.37c-.4-.4-.92-.59-1.43-.59-.52 0-1.04.2-1.43.59L10.3 9.45l-7.72 7.72c-.78.78-.78 2.05 0 2.83L4 21.41c.39.39.9.59 1.41.59.51 0 1.02-.2 1.41-.59l7.78-7.78 2.81-2.81c.8-.78.8-2.07 0-2.86zM5.41 20L4 18.59l7.72-7.72 1.47 1.35L5.41 20z\"/>\n",
              "  </svg>\n",
              "      </button>\n",
              "      \n",
              "  <style>\n",
              "    .colab-df-container {\n",
              "      display:flex;\n",
              "      flex-wrap:wrap;\n",
              "      gap: 12px;\n",
              "    }\n",
              "\n",
              "    .colab-df-convert {\n",
              "      background-color: #E8F0FE;\n",
              "      border: none;\n",
              "      border-radius: 50%;\n",
              "      cursor: pointer;\n",
              "      display: none;\n",
              "      fill: #1967D2;\n",
              "      height: 32px;\n",
              "      padding: 0 0 0 0;\n",
              "      width: 32px;\n",
              "    }\n",
              "\n",
              "    .colab-df-convert:hover {\n",
              "      background-color: #E2EBFA;\n",
              "      box-shadow: 0px 1px 2px rgba(60, 64, 67, 0.3), 0px 1px 3px 1px rgba(60, 64, 67, 0.15);\n",
              "      fill: #174EA6;\n",
              "    }\n",
              "\n",
              "    [theme=dark] .colab-df-convert {\n",
              "      background-color: #3B4455;\n",
              "      fill: #D2E3FC;\n",
              "    }\n",
              "\n",
              "    [theme=dark] .colab-df-convert:hover {\n",
              "      background-color: #434B5C;\n",
              "      box-shadow: 0px 1px 3px 1px rgba(0, 0, 0, 0.15);\n",
              "      filter: drop-shadow(0px 1px 2px rgba(0, 0, 0, 0.3));\n",
              "      fill: #FFFFFF;\n",
              "    }\n",
              "  </style>\n",
              "\n",
              "      <script>\n",
              "        const buttonEl =\n",
              "          document.querySelector('#df-366848f8-cd9c-4006-b776-678251520ee9 button.colab-df-convert');\n",
              "        buttonEl.style.display =\n",
              "          google.colab.kernel.accessAllowed ? 'block' : 'none';\n",
              "\n",
              "        async function convertToInteractive(key) {\n",
              "          const element = document.querySelector('#df-366848f8-cd9c-4006-b776-678251520ee9');\n",
              "          const dataTable =\n",
              "            await google.colab.kernel.invokeFunction('convertToInteractive',\n",
              "                                                     [key], {});\n",
              "          if (!dataTable) return;\n",
              "\n",
              "          const docLinkHtml = 'Like what you see? Visit the ' +\n",
              "            '<a target=\"_blank\" href=https://colab.research.google.com/notebooks/data_table.ipynb>data table notebook</a>'\n",
              "            + ' to learn more about interactive tables.';\n",
              "          element.innerHTML = '';\n",
              "          dataTable['output_type'] = 'display_data';\n",
              "          await google.colab.output.renderOutput(dataTable, element);\n",
              "          const docLink = document.createElement('div');\n",
              "          docLink.innerHTML = docLinkHtml;\n",
              "          element.appendChild(docLink);\n",
              "        }\n",
              "      </script>\n",
              "    </div>\n",
              "  </div>\n",
              "  "
            ]
          },
          "metadata": {},
          "execution_count": 33
        }
      ]
    },
    {
      "cell_type": "markdown",
      "source": [
        "large error in the stratified sampling for the 61+ age cat. We will therefore use the initial stratified sampling sets."
      ],
      "metadata": {
        "id": "IAkDO9LkVfvp"
      }
    },
    {
      "cell_type": "code",
      "source": [
        "for set_ in (strat_train_set2, strat_test_set2):\n",
        "    set_.drop(\"pov_cat\", axis=1, inplace=True)"
      ],
      "metadata": {
        "id": "QTuVJvW8Tcbg"
      },
      "execution_count": null,
      "outputs": []
    },
    {
      "cell_type": "code",
      "source": [
        "for set_ in (strat_train_set, strat_test_set):\n",
        "    set_.drop(\"age_cat\", axis=1, inplace=True)"
      ],
      "metadata": {
        "id": "K3Uy0TF1Tc0h"
      },
      "execution_count": null,
      "outputs": []
    },
    {
      "cell_type": "code",
      "source": [
        "police_ml_copy = strat_train_set.copy()"
      ],
      "metadata": {
        "id": "0f1JuPH-TdBy"
      },
      "execution_count": null,
      "outputs": []
    },
    {
      "cell_type": "code",
      "source": [
        "corr_matrix = police_ml_copy.corr()"
      ],
      "metadata": {
        "id": "vV0Ny-6RTdOA"
      },
      "execution_count": null,
      "outputs": []
    },
    {
      "cell_type": "code",
      "source": [
        "corr_matrix"
      ],
      "metadata": {
        "colab": {
          "base_uri": "https://localhost:8080/",
          "height": 615
        },
        "id": "xC49qc5CUKcU",
        "outputId": "22a802f7-62b9-4388-b5ed-8edae762bcbd"
      },
      "execution_count": null,
      "outputs": [
        {
          "output_type": "execute_result",
          "data": {
            "text/plain": [
              "                     age  year  latitude  longitude       pop  share_white  \\\n",
              "age             1.000000   NaN  0.016977   0.017262  0.003413     0.197097   \n",
              "year                 NaN   NaN       NaN        NaN       NaN          NaN   \n",
              "latitude        0.016977   NaN  1.000000  -0.053268 -0.072375     0.225705   \n",
              "longitude       0.017262   NaN -0.053268   1.000000 -0.015960     0.178505   \n",
              "pop             0.003413   NaN -0.072375  -0.015960  1.000000     0.062202   \n",
              "share_white     0.197097   NaN  0.225705   0.178505  0.062202     1.000000   \n",
              "share_black    -0.104121   NaN -0.061912   0.395894 -0.148891    -0.504203   \n",
              "share_hispanic -0.134304   NaN -0.230993  -0.419940  0.047852    -0.625835   \n",
              "p_income       -0.007508   NaN  0.002421   0.025067  0.199750     0.313183   \n",
              "h_income        0.016725   NaN  0.015616  -0.066220  0.339330     0.283990   \n",
              "county_income  -0.054532   NaN  0.207678  -0.160339  0.175428    -0.151631   \n",
              "comp_income     0.054523   NaN -0.118275   0.017938  0.279180     0.441324   \n",
              "pov            -0.081103   NaN -0.037518  -0.011452 -0.301356    -0.478867   \n",
              "urate          -0.076447   NaN  0.066945   0.029507 -0.212157    -0.357689   \n",
              "college        -0.043414   NaN -0.017492   0.048400  0.120633     0.308914   \n",
              "is_armed        0.018646   NaN -0.031625   0.069976 -0.047864    -0.017414   \n",
              "\n",
              "                share_black  share_hispanic  p_income  h_income  \\\n",
              "age               -0.104121       -0.134304 -0.007508  0.016725   \n",
              "year                    NaN             NaN       NaN       NaN   \n",
              "latitude          -0.061912       -0.230993  0.002421  0.015616   \n",
              "longitude          0.395894       -0.419940  0.025067 -0.066220   \n",
              "pop               -0.148891        0.047852  0.199750  0.339330   \n",
              "share_white       -0.504203       -0.625835  0.313183  0.283990   \n",
              "share_black        1.000000       -0.268286 -0.223601 -0.303769   \n",
              "share_hispanic    -0.268286        1.000000 -0.240856 -0.170063   \n",
              "p_income          -0.223601       -0.240856  1.000000  0.805692   \n",
              "h_income          -0.303769       -0.170063  0.805692  1.000000   \n",
              "county_income     -0.082580        0.115445  0.334405  0.484529   \n",
              "comp_income       -0.331743       -0.252234  0.684575  0.787083   \n",
              "pov                0.380870        0.262463 -0.676494 -0.753567   \n",
              "urate              0.451191        0.036857 -0.475242 -0.488488   \n",
              "college           -0.178397       -0.297786  0.678484  0.641662   \n",
              "is_armed           0.064361        0.015967  0.048472 -0.011256   \n",
              "\n",
              "                county_income  comp_income       pov     urate   college  \\\n",
              "age                 -0.054532     0.054523 -0.081103 -0.076447 -0.043414   \n",
              "year                      NaN          NaN       NaN       NaN       NaN   \n",
              "latitude             0.207678    -0.118275 -0.037518  0.066945 -0.017492   \n",
              "longitude           -0.160339     0.017938 -0.011452  0.029507  0.048400   \n",
              "pop                  0.175428     0.279180 -0.301356 -0.212157  0.120633   \n",
              "share_white         -0.151631     0.441324 -0.478867 -0.357689  0.308914   \n",
              "share_black         -0.082580    -0.331743  0.380870  0.451191 -0.178397   \n",
              "share_hispanic       0.115445    -0.252234  0.262463  0.036857 -0.297786   \n",
              "p_income             0.334405     0.684575 -0.676494 -0.475242  0.678484   \n",
              "h_income             0.484529     0.787083 -0.753567 -0.488488  0.641662   \n",
              "county_income        1.000000    -0.119577 -0.288584 -0.175734  0.333289   \n",
              "comp_income         -0.119577     1.000000 -0.704512 -0.467734  0.470145   \n",
              "pov                 -0.288584    -0.704512  1.000000  0.587727 -0.429474   \n",
              "urate               -0.175734    -0.467734  0.587727  1.000000 -0.448868   \n",
              "college              0.333289     0.470145 -0.429474 -0.448868  1.000000   \n",
              "is_armed             0.054884    -0.046844  0.015232  0.082631  0.019895   \n",
              "\n",
              "                is_armed  \n",
              "age             0.018646  \n",
              "year                 NaN  \n",
              "latitude       -0.031625  \n",
              "longitude       0.069976  \n",
              "pop            -0.047864  \n",
              "share_white    -0.017414  \n",
              "share_black     0.064361  \n",
              "share_hispanic  0.015967  \n",
              "p_income        0.048472  \n",
              "h_income       -0.011256  \n",
              "county_income   0.054884  \n",
              "comp_income    -0.046844  \n",
              "pov             0.015232  \n",
              "urate           0.082631  \n",
              "college         0.019895  \n",
              "is_armed        1.000000  "
            ],
            "text/html": [
              "\n",
              "  <div id=\"df-275a4776-c3b5-4ef8-8638-03bbde1e44d7\">\n",
              "    <div class=\"colab-df-container\">\n",
              "      <div>\n",
              "<style scoped>\n",
              "    .dataframe tbody tr th:only-of-type {\n",
              "        vertical-align: middle;\n",
              "    }\n",
              "\n",
              "    .dataframe tbody tr th {\n",
              "        vertical-align: top;\n",
              "    }\n",
              "\n",
              "    .dataframe thead th {\n",
              "        text-align: right;\n",
              "    }\n",
              "</style>\n",
              "<table border=\"1\" class=\"dataframe\">\n",
              "  <thead>\n",
              "    <tr style=\"text-align: right;\">\n",
              "      <th></th>\n",
              "      <th>age</th>\n",
              "      <th>year</th>\n",
              "      <th>latitude</th>\n",
              "      <th>longitude</th>\n",
              "      <th>pop</th>\n",
              "      <th>share_white</th>\n",
              "      <th>share_black</th>\n",
              "      <th>share_hispanic</th>\n",
              "      <th>p_income</th>\n",
              "      <th>h_income</th>\n",
              "      <th>county_income</th>\n",
              "      <th>comp_income</th>\n",
              "      <th>pov</th>\n",
              "      <th>urate</th>\n",
              "      <th>college</th>\n",
              "      <th>is_armed</th>\n",
              "    </tr>\n",
              "  </thead>\n",
              "  <tbody>\n",
              "    <tr>\n",
              "      <th>age</th>\n",
              "      <td>1.000000</td>\n",
              "      <td>NaN</td>\n",
              "      <td>0.016977</td>\n",
              "      <td>0.017262</td>\n",
              "      <td>0.003413</td>\n",
              "      <td>0.197097</td>\n",
              "      <td>-0.104121</td>\n",
              "      <td>-0.134304</td>\n",
              "      <td>-0.007508</td>\n",
              "      <td>0.016725</td>\n",
              "      <td>-0.054532</td>\n",
              "      <td>0.054523</td>\n",
              "      <td>-0.081103</td>\n",
              "      <td>-0.076447</td>\n",
              "      <td>-0.043414</td>\n",
              "      <td>0.018646</td>\n",
              "    </tr>\n",
              "    <tr>\n",
              "      <th>year</th>\n",
              "      <td>NaN</td>\n",
              "      <td>NaN</td>\n",
              "      <td>NaN</td>\n",
              "      <td>NaN</td>\n",
              "      <td>NaN</td>\n",
              "      <td>NaN</td>\n",
              "      <td>NaN</td>\n",
              "      <td>NaN</td>\n",
              "      <td>NaN</td>\n",
              "      <td>NaN</td>\n",
              "      <td>NaN</td>\n",
              "      <td>NaN</td>\n",
              "      <td>NaN</td>\n",
              "      <td>NaN</td>\n",
              "      <td>NaN</td>\n",
              "      <td>NaN</td>\n",
              "    </tr>\n",
              "    <tr>\n",
              "      <th>latitude</th>\n",
              "      <td>0.016977</td>\n",
              "      <td>NaN</td>\n",
              "      <td>1.000000</td>\n",
              "      <td>-0.053268</td>\n",
              "      <td>-0.072375</td>\n",
              "      <td>0.225705</td>\n",
              "      <td>-0.061912</td>\n",
              "      <td>-0.230993</td>\n",
              "      <td>0.002421</td>\n",
              "      <td>0.015616</td>\n",
              "      <td>0.207678</td>\n",
              "      <td>-0.118275</td>\n",
              "      <td>-0.037518</td>\n",
              "      <td>0.066945</td>\n",
              "      <td>-0.017492</td>\n",
              "      <td>-0.031625</td>\n",
              "    </tr>\n",
              "    <tr>\n",
              "      <th>longitude</th>\n",
              "      <td>0.017262</td>\n",
              "      <td>NaN</td>\n",
              "      <td>-0.053268</td>\n",
              "      <td>1.000000</td>\n",
              "      <td>-0.015960</td>\n",
              "      <td>0.178505</td>\n",
              "      <td>0.395894</td>\n",
              "      <td>-0.419940</td>\n",
              "      <td>0.025067</td>\n",
              "      <td>-0.066220</td>\n",
              "      <td>-0.160339</td>\n",
              "      <td>0.017938</td>\n",
              "      <td>-0.011452</td>\n",
              "      <td>0.029507</td>\n",
              "      <td>0.048400</td>\n",
              "      <td>0.069976</td>\n",
              "    </tr>\n",
              "    <tr>\n",
              "      <th>pop</th>\n",
              "      <td>0.003413</td>\n",
              "      <td>NaN</td>\n",
              "      <td>-0.072375</td>\n",
              "      <td>-0.015960</td>\n",
              "      <td>1.000000</td>\n",
              "      <td>0.062202</td>\n",
              "      <td>-0.148891</td>\n",
              "      <td>0.047852</td>\n",
              "      <td>0.199750</td>\n",
              "      <td>0.339330</td>\n",
              "      <td>0.175428</td>\n",
              "      <td>0.279180</td>\n",
              "      <td>-0.301356</td>\n",
              "      <td>-0.212157</td>\n",
              "      <td>0.120633</td>\n",
              "      <td>-0.047864</td>\n",
              "    </tr>\n",
              "    <tr>\n",
              "      <th>share_white</th>\n",
              "      <td>0.197097</td>\n",
              "      <td>NaN</td>\n",
              "      <td>0.225705</td>\n",
              "      <td>0.178505</td>\n",
              "      <td>0.062202</td>\n",
              "      <td>1.000000</td>\n",
              "      <td>-0.504203</td>\n",
              "      <td>-0.625835</td>\n",
              "      <td>0.313183</td>\n",
              "      <td>0.283990</td>\n",
              "      <td>-0.151631</td>\n",
              "      <td>0.441324</td>\n",
              "      <td>-0.478867</td>\n",
              "      <td>-0.357689</td>\n",
              "      <td>0.308914</td>\n",
              "      <td>-0.017414</td>\n",
              "    </tr>\n",
              "    <tr>\n",
              "      <th>share_black</th>\n",
              "      <td>-0.104121</td>\n",
              "      <td>NaN</td>\n",
              "      <td>-0.061912</td>\n",
              "      <td>0.395894</td>\n",
              "      <td>-0.148891</td>\n",
              "      <td>-0.504203</td>\n",
              "      <td>1.000000</td>\n",
              "      <td>-0.268286</td>\n",
              "      <td>-0.223601</td>\n",
              "      <td>-0.303769</td>\n",
              "      <td>-0.082580</td>\n",
              "      <td>-0.331743</td>\n",
              "      <td>0.380870</td>\n",
              "      <td>0.451191</td>\n",
              "      <td>-0.178397</td>\n",
              "      <td>0.064361</td>\n",
              "    </tr>\n",
              "    <tr>\n",
              "      <th>share_hispanic</th>\n",
              "      <td>-0.134304</td>\n",
              "      <td>NaN</td>\n",
              "      <td>-0.230993</td>\n",
              "      <td>-0.419940</td>\n",
              "      <td>0.047852</td>\n",
              "      <td>-0.625835</td>\n",
              "      <td>-0.268286</td>\n",
              "      <td>1.000000</td>\n",
              "      <td>-0.240856</td>\n",
              "      <td>-0.170063</td>\n",
              "      <td>0.115445</td>\n",
              "      <td>-0.252234</td>\n",
              "      <td>0.262463</td>\n",
              "      <td>0.036857</td>\n",
              "      <td>-0.297786</td>\n",
              "      <td>0.015967</td>\n",
              "    </tr>\n",
              "    <tr>\n",
              "      <th>p_income</th>\n",
              "      <td>-0.007508</td>\n",
              "      <td>NaN</td>\n",
              "      <td>0.002421</td>\n",
              "      <td>0.025067</td>\n",
              "      <td>0.199750</td>\n",
              "      <td>0.313183</td>\n",
              "      <td>-0.223601</td>\n",
              "      <td>-0.240856</td>\n",
              "      <td>1.000000</td>\n",
              "      <td>0.805692</td>\n",
              "      <td>0.334405</td>\n",
              "      <td>0.684575</td>\n",
              "      <td>-0.676494</td>\n",
              "      <td>-0.475242</td>\n",
              "      <td>0.678484</td>\n",
              "      <td>0.048472</td>\n",
              "    </tr>\n",
              "    <tr>\n",
              "      <th>h_income</th>\n",
              "      <td>0.016725</td>\n",
              "      <td>NaN</td>\n",
              "      <td>0.015616</td>\n",
              "      <td>-0.066220</td>\n",
              "      <td>0.339330</td>\n",
              "      <td>0.283990</td>\n",
              "      <td>-0.303769</td>\n",
              "      <td>-0.170063</td>\n",
              "      <td>0.805692</td>\n",
              "      <td>1.000000</td>\n",
              "      <td>0.484529</td>\n",
              "      <td>0.787083</td>\n",
              "      <td>-0.753567</td>\n",
              "      <td>-0.488488</td>\n",
              "      <td>0.641662</td>\n",
              "      <td>-0.011256</td>\n",
              "    </tr>\n",
              "    <tr>\n",
              "      <th>county_income</th>\n",
              "      <td>-0.054532</td>\n",
              "      <td>NaN</td>\n",
              "      <td>0.207678</td>\n",
              "      <td>-0.160339</td>\n",
              "      <td>0.175428</td>\n",
              "      <td>-0.151631</td>\n",
              "      <td>-0.082580</td>\n",
              "      <td>0.115445</td>\n",
              "      <td>0.334405</td>\n",
              "      <td>0.484529</td>\n",
              "      <td>1.000000</td>\n",
              "      <td>-0.119577</td>\n",
              "      <td>-0.288584</td>\n",
              "      <td>-0.175734</td>\n",
              "      <td>0.333289</td>\n",
              "      <td>0.054884</td>\n",
              "    </tr>\n",
              "    <tr>\n",
              "      <th>comp_income</th>\n",
              "      <td>0.054523</td>\n",
              "      <td>NaN</td>\n",
              "      <td>-0.118275</td>\n",
              "      <td>0.017938</td>\n",
              "      <td>0.279180</td>\n",
              "      <td>0.441324</td>\n",
              "      <td>-0.331743</td>\n",
              "      <td>-0.252234</td>\n",
              "      <td>0.684575</td>\n",
              "      <td>0.787083</td>\n",
              "      <td>-0.119577</td>\n",
              "      <td>1.000000</td>\n",
              "      <td>-0.704512</td>\n",
              "      <td>-0.467734</td>\n",
              "      <td>0.470145</td>\n",
              "      <td>-0.046844</td>\n",
              "    </tr>\n",
              "    <tr>\n",
              "      <th>pov</th>\n",
              "      <td>-0.081103</td>\n",
              "      <td>NaN</td>\n",
              "      <td>-0.037518</td>\n",
              "      <td>-0.011452</td>\n",
              "      <td>-0.301356</td>\n",
              "      <td>-0.478867</td>\n",
              "      <td>0.380870</td>\n",
              "      <td>0.262463</td>\n",
              "      <td>-0.676494</td>\n",
              "      <td>-0.753567</td>\n",
              "      <td>-0.288584</td>\n",
              "      <td>-0.704512</td>\n",
              "      <td>1.000000</td>\n",
              "      <td>0.587727</td>\n",
              "      <td>-0.429474</td>\n",
              "      <td>0.015232</td>\n",
              "    </tr>\n",
              "    <tr>\n",
              "      <th>urate</th>\n",
              "      <td>-0.076447</td>\n",
              "      <td>NaN</td>\n",
              "      <td>0.066945</td>\n",
              "      <td>0.029507</td>\n",
              "      <td>-0.212157</td>\n",
              "      <td>-0.357689</td>\n",
              "      <td>0.451191</td>\n",
              "      <td>0.036857</td>\n",
              "      <td>-0.475242</td>\n",
              "      <td>-0.488488</td>\n",
              "      <td>-0.175734</td>\n",
              "      <td>-0.467734</td>\n",
              "      <td>0.587727</td>\n",
              "      <td>1.000000</td>\n",
              "      <td>-0.448868</td>\n",
              "      <td>0.082631</td>\n",
              "    </tr>\n",
              "    <tr>\n",
              "      <th>college</th>\n",
              "      <td>-0.043414</td>\n",
              "      <td>NaN</td>\n",
              "      <td>-0.017492</td>\n",
              "      <td>0.048400</td>\n",
              "      <td>0.120633</td>\n",
              "      <td>0.308914</td>\n",
              "      <td>-0.178397</td>\n",
              "      <td>-0.297786</td>\n",
              "      <td>0.678484</td>\n",
              "      <td>0.641662</td>\n",
              "      <td>0.333289</td>\n",
              "      <td>0.470145</td>\n",
              "      <td>-0.429474</td>\n",
              "      <td>-0.448868</td>\n",
              "      <td>1.000000</td>\n",
              "      <td>0.019895</td>\n",
              "    </tr>\n",
              "    <tr>\n",
              "      <th>is_armed</th>\n",
              "      <td>0.018646</td>\n",
              "      <td>NaN</td>\n",
              "      <td>-0.031625</td>\n",
              "      <td>0.069976</td>\n",
              "      <td>-0.047864</td>\n",
              "      <td>-0.017414</td>\n",
              "      <td>0.064361</td>\n",
              "      <td>0.015967</td>\n",
              "      <td>0.048472</td>\n",
              "      <td>-0.011256</td>\n",
              "      <td>0.054884</td>\n",
              "      <td>-0.046844</td>\n",
              "      <td>0.015232</td>\n",
              "      <td>0.082631</td>\n",
              "      <td>0.019895</td>\n",
              "      <td>1.000000</td>\n",
              "    </tr>\n",
              "  </tbody>\n",
              "</table>\n",
              "</div>\n",
              "      <button class=\"colab-df-convert\" onclick=\"convertToInteractive('df-275a4776-c3b5-4ef8-8638-03bbde1e44d7')\"\n",
              "              title=\"Convert this dataframe to an interactive table.\"\n",
              "              style=\"display:none;\">\n",
              "        \n",
              "  <svg xmlns=\"http://www.w3.org/2000/svg\" height=\"24px\"viewBox=\"0 0 24 24\"\n",
              "       width=\"24px\">\n",
              "    <path d=\"M0 0h24v24H0V0z\" fill=\"none\"/>\n",
              "    <path d=\"M18.56 5.44l.94 2.06.94-2.06 2.06-.94-2.06-.94-.94-2.06-.94 2.06-2.06.94zm-11 1L8.5 8.5l.94-2.06 2.06-.94-2.06-.94L8.5 2.5l-.94 2.06-2.06.94zm10 10l.94 2.06.94-2.06 2.06-.94-2.06-.94-.94-2.06-.94 2.06-2.06.94z\"/><path d=\"M17.41 7.96l-1.37-1.37c-.4-.4-.92-.59-1.43-.59-.52 0-1.04.2-1.43.59L10.3 9.45l-7.72 7.72c-.78.78-.78 2.05 0 2.83L4 21.41c.39.39.9.59 1.41.59.51 0 1.02-.2 1.41-.59l7.78-7.78 2.81-2.81c.8-.78.8-2.07 0-2.86zM5.41 20L4 18.59l7.72-7.72 1.47 1.35L5.41 20z\"/>\n",
              "  </svg>\n",
              "      </button>\n",
              "      \n",
              "  <style>\n",
              "    .colab-df-container {\n",
              "      display:flex;\n",
              "      flex-wrap:wrap;\n",
              "      gap: 12px;\n",
              "    }\n",
              "\n",
              "    .colab-df-convert {\n",
              "      background-color: #E8F0FE;\n",
              "      border: none;\n",
              "      border-radius: 50%;\n",
              "      cursor: pointer;\n",
              "      display: none;\n",
              "      fill: #1967D2;\n",
              "      height: 32px;\n",
              "      padding: 0 0 0 0;\n",
              "      width: 32px;\n",
              "    }\n",
              "\n",
              "    .colab-df-convert:hover {\n",
              "      background-color: #E2EBFA;\n",
              "      box-shadow: 0px 1px 2px rgba(60, 64, 67, 0.3), 0px 1px 3px 1px rgba(60, 64, 67, 0.15);\n",
              "      fill: #174EA6;\n",
              "    }\n",
              "\n",
              "    [theme=dark] .colab-df-convert {\n",
              "      background-color: #3B4455;\n",
              "      fill: #D2E3FC;\n",
              "    }\n",
              "\n",
              "    [theme=dark] .colab-df-convert:hover {\n",
              "      background-color: #434B5C;\n",
              "      box-shadow: 0px 1px 3px 1px rgba(0, 0, 0, 0.15);\n",
              "      filter: drop-shadow(0px 1px 2px rgba(0, 0, 0, 0.3));\n",
              "      fill: #FFFFFF;\n",
              "    }\n",
              "  </style>\n",
              "\n",
              "      <script>\n",
              "        const buttonEl =\n",
              "          document.querySelector('#df-275a4776-c3b5-4ef8-8638-03bbde1e44d7 button.colab-df-convert');\n",
              "        buttonEl.style.display =\n",
              "          google.colab.kernel.accessAllowed ? 'block' : 'none';\n",
              "\n",
              "        async function convertToInteractive(key) {\n",
              "          const element = document.querySelector('#df-275a4776-c3b5-4ef8-8638-03bbde1e44d7');\n",
              "          const dataTable =\n",
              "            await google.colab.kernel.invokeFunction('convertToInteractive',\n",
              "                                                     [key], {});\n",
              "          if (!dataTable) return;\n",
              "\n",
              "          const docLinkHtml = 'Like what you see? Visit the ' +\n",
              "            '<a target=\"_blank\" href=https://colab.research.google.com/notebooks/data_table.ipynb>data table notebook</a>'\n",
              "            + ' to learn more about interactive tables.';\n",
              "          element.innerHTML = '';\n",
              "          dataTable['output_type'] = 'display_data';\n",
              "          await google.colab.output.renderOutput(dataTable, element);\n",
              "          const docLink = document.createElement('div');\n",
              "          docLink.innerHTML = docLinkHtml;\n",
              "          element.appendChild(docLink);\n",
              "        }\n",
              "      </script>\n",
              "    </div>\n",
              "  </div>\n",
              "  "
            ]
          },
          "metadata": {},
          "execution_count": 38
        }
      ]
    },
    {
      "cell_type": "code",
      "source": [
        "corr_matrix[\"is_armed\"].sort_values(ascending=False)"
      ],
      "metadata": {
        "colab": {
          "base_uri": "https://localhost:8080/"
        },
        "id": "r0VTkEFmTdeK",
        "outputId": "bf7027e3-1374-428e-8da9-8dcecc91996c"
      },
      "execution_count": null,
      "outputs": [
        {
          "output_type": "execute_result",
          "data": {
            "text/plain": [
              "is_armed          1.000000\n",
              "urate             0.082631\n",
              "longitude         0.069976\n",
              "share_black       0.064361\n",
              "county_income     0.054884\n",
              "p_income          0.048472\n",
              "college           0.019895\n",
              "age               0.018646\n",
              "share_hispanic    0.015967\n",
              "pov               0.015232\n",
              "h_income         -0.011256\n",
              "share_white      -0.017414\n",
              "latitude         -0.031625\n",
              "comp_income      -0.046844\n",
              "pop              -0.047864\n",
              "year                   NaN\n",
              "Name: is_armed, dtype: float64"
            ]
          },
          "metadata": {},
          "execution_count": 39
        }
      ]
    },
    {
      "cell_type": "markdown",
      "source": [
        "urate has the strongest correlation"
      ],
      "metadata": {
        "id": "woF1q6sO4Ri_"
      }
    },
    {
      "cell_type": "code",
      "source": [
        "police_ml_copy = strat_train_set.drop(\"is_armed\", axis=1) # drop labels for training set\n",
        "police_labels = strat_train_set[\"is_armed\"].copy()"
      ],
      "metadata": {
        "id": "C7e4jXtUYVBq"
      },
      "execution_count": null,
      "outputs": []
    },
    {
      "cell_type": "markdown",
      "source": [
        "check for incomplete rows"
      ],
      "metadata": {
        "id": "Ww2jjnZw4YjP"
      }
    },
    {
      "cell_type": "code",
      "source": [
        "sample_incomplete_rows = police_ml_copy[police_ml_copy.isnull().any(axis=1)].head()\n",
        "sample_incomplete_rows"
      ],
      "metadata": {
        "colab": {
          "base_uri": "https://localhost:8080/",
          "height": 143
        },
        "id": "-D8T7vi0YXFb",
        "outputId": "aa33e9d7-0a8d-43cf-fd60-5134bbf60964"
      },
      "execution_count": null,
      "outputs": [
        {
          "output_type": "execute_result",
          "data": {
            "text/plain": [
              "Empty DataFrame\n",
              "Columns: [age, gender, raceethnicity, month, year, city, state, latitude, longitude, lawenforcementagency, cause, armed, pop, share_white, share_black, share_hispanic, p_income, h_income, county_income, comp_income, pov, urate, college]\n",
              "Index: []\n",
              "\n",
              "[0 rows x 23 columns]"
            ],
            "text/html": [
              "\n",
              "  <div id=\"df-4cef39fc-7107-4335-9533-b59c816d4d15\">\n",
              "    <div class=\"colab-df-container\">\n",
              "      <div>\n",
              "<style scoped>\n",
              "    .dataframe tbody tr th:only-of-type {\n",
              "        vertical-align: middle;\n",
              "    }\n",
              "\n",
              "    .dataframe tbody tr th {\n",
              "        vertical-align: top;\n",
              "    }\n",
              "\n",
              "    .dataframe thead th {\n",
              "        text-align: right;\n",
              "    }\n",
              "</style>\n",
              "<table border=\"1\" class=\"dataframe\">\n",
              "  <thead>\n",
              "    <tr style=\"text-align: right;\">\n",
              "      <th></th>\n",
              "      <th>age</th>\n",
              "      <th>gender</th>\n",
              "      <th>raceethnicity</th>\n",
              "      <th>month</th>\n",
              "      <th>year</th>\n",
              "      <th>city</th>\n",
              "      <th>state</th>\n",
              "      <th>latitude</th>\n",
              "      <th>longitude</th>\n",
              "      <th>lawenforcementagency</th>\n",
              "      <th>...</th>\n",
              "      <th>share_white</th>\n",
              "      <th>share_black</th>\n",
              "      <th>share_hispanic</th>\n",
              "      <th>p_income</th>\n",
              "      <th>h_income</th>\n",
              "      <th>county_income</th>\n",
              "      <th>comp_income</th>\n",
              "      <th>pov</th>\n",
              "      <th>urate</th>\n",
              "      <th>college</th>\n",
              "    </tr>\n",
              "  </thead>\n",
              "  <tbody>\n",
              "  </tbody>\n",
              "</table>\n",
              "<p>0 rows × 23 columns</p>\n",
              "</div>\n",
              "      <button class=\"colab-df-convert\" onclick=\"convertToInteractive('df-4cef39fc-7107-4335-9533-b59c816d4d15')\"\n",
              "              title=\"Convert this dataframe to an interactive table.\"\n",
              "              style=\"display:none;\">\n",
              "        \n",
              "  <svg xmlns=\"http://www.w3.org/2000/svg\" height=\"24px\"viewBox=\"0 0 24 24\"\n",
              "       width=\"24px\">\n",
              "    <path d=\"M0 0h24v24H0V0z\" fill=\"none\"/>\n",
              "    <path d=\"M18.56 5.44l.94 2.06.94-2.06 2.06-.94-2.06-.94-.94-2.06-.94 2.06-2.06.94zm-11 1L8.5 8.5l.94-2.06 2.06-.94-2.06-.94L8.5 2.5l-.94 2.06-2.06.94zm10 10l.94 2.06.94-2.06 2.06-.94-2.06-.94-.94-2.06-.94 2.06-2.06.94z\"/><path d=\"M17.41 7.96l-1.37-1.37c-.4-.4-.92-.59-1.43-.59-.52 0-1.04.2-1.43.59L10.3 9.45l-7.72 7.72c-.78.78-.78 2.05 0 2.83L4 21.41c.39.39.9.59 1.41.59.51 0 1.02-.2 1.41-.59l7.78-7.78 2.81-2.81c.8-.78.8-2.07 0-2.86zM5.41 20L4 18.59l7.72-7.72 1.47 1.35L5.41 20z\"/>\n",
              "  </svg>\n",
              "      </button>\n",
              "      \n",
              "  <style>\n",
              "    .colab-df-container {\n",
              "      display:flex;\n",
              "      flex-wrap:wrap;\n",
              "      gap: 12px;\n",
              "    }\n",
              "\n",
              "    .colab-df-convert {\n",
              "      background-color: #E8F0FE;\n",
              "      border: none;\n",
              "      border-radius: 50%;\n",
              "      cursor: pointer;\n",
              "      display: none;\n",
              "      fill: #1967D2;\n",
              "      height: 32px;\n",
              "      padding: 0 0 0 0;\n",
              "      width: 32px;\n",
              "    }\n",
              "\n",
              "    .colab-df-convert:hover {\n",
              "      background-color: #E2EBFA;\n",
              "      box-shadow: 0px 1px 2px rgba(60, 64, 67, 0.3), 0px 1px 3px 1px rgba(60, 64, 67, 0.15);\n",
              "      fill: #174EA6;\n",
              "    }\n",
              "\n",
              "    [theme=dark] .colab-df-convert {\n",
              "      background-color: #3B4455;\n",
              "      fill: #D2E3FC;\n",
              "    }\n",
              "\n",
              "    [theme=dark] .colab-df-convert:hover {\n",
              "      background-color: #434B5C;\n",
              "      box-shadow: 0px 1px 3px 1px rgba(0, 0, 0, 0.15);\n",
              "      filter: drop-shadow(0px 1px 2px rgba(0, 0, 0, 0.3));\n",
              "      fill: #FFFFFF;\n",
              "    }\n",
              "  </style>\n",
              "\n",
              "      <script>\n",
              "        const buttonEl =\n",
              "          document.querySelector('#df-4cef39fc-7107-4335-9533-b59c816d4d15 button.colab-df-convert');\n",
              "        buttonEl.style.display =\n",
              "          google.colab.kernel.accessAllowed ? 'block' : 'none';\n",
              "\n",
              "        async function convertToInteractive(key) {\n",
              "          const element = document.querySelector('#df-4cef39fc-7107-4335-9533-b59c816d4d15');\n",
              "          const dataTable =\n",
              "            await google.colab.kernel.invokeFunction('convertToInteractive',\n",
              "                                                     [key], {});\n",
              "          if (!dataTable) return;\n",
              "\n",
              "          const docLinkHtml = 'Like what you see? Visit the ' +\n",
              "            '<a target=\"_blank\" href=https://colab.research.google.com/notebooks/data_table.ipynb>data table notebook</a>'\n",
              "            + ' to learn more about interactive tables.';\n",
              "          element.innerHTML = '';\n",
              "          dataTable['output_type'] = 'display_data';\n",
              "          await google.colab.output.renderOutput(dataTable, element);\n",
              "          const docLink = document.createElement('div');\n",
              "          docLink.innerHTML = docLinkHtml;\n",
              "          element.appendChild(docLink);\n",
              "        }\n",
              "      </script>\n",
              "    </div>\n",
              "  </div>\n",
              "  "
            ]
          },
          "metadata": {},
          "execution_count": 41
        }
      ]
    },
    {
      "cell_type": "code",
      "source": [
        "police_ml_copy.describe()"
      ],
      "metadata": {
        "colab": {
          "base_uri": "https://localhost:8080/",
          "height": 364
        },
        "id": "m9lb9xRyZkRf",
        "outputId": "cdbab0bb-eba1-4156-be58-0b3fa3debac4"
      },
      "execution_count": null,
      "outputs": [
        {
          "output_type": "execute_result",
          "data": {
            "text/plain": [
              "              age    year    latitude   longitude           pop  share_white  \\\n",
              "count  368.000000   368.0  368.000000  368.000000    368.000000   368.000000   \n",
              "mean    37.190217  2015.0   36.302970  -97.839630   4852.945652    51.980163   \n",
              "std     12.804832     0.0    5.117327   16.715772   2453.085811    29.785929   \n",
              "min     16.000000  2015.0   19.915194 -159.642700    678.000000     0.000000   \n",
              "25%     28.000000  2015.0   33.354019 -112.201316   3402.000000    26.500000   \n",
              "50%     35.000000  2015.0   35.452811  -95.476101   4427.000000    56.650000   \n",
              "75%     45.000000  2015.0   39.797437  -83.241787   5866.250000    76.975000   \n",
              "max     83.000000  2015.0   61.218408  -68.100007  26826.000000    99.400000   \n",
              "\n",
              "       share_black  share_hispanic      p_income       h_income  \\\n",
              "count   368.000000      368.000000    368.000000     368.000000   \n",
              "mean     16.848098       23.364130  24141.836957   46325.904891   \n",
              "std      23.796104       25.386595   8817.703665   19225.733600   \n",
              "min       0.000000        0.000000   5457.000000   10290.000000   \n",
              "25%       1.400000        3.675000  18339.000000   32708.000000   \n",
              "50%       6.350000       13.200000  22167.500000   43336.000000   \n",
              "75%      22.475000       35.925000  28506.500000   56031.250000   \n",
              "max      99.400000       97.100000  86023.000000  138750.000000   \n",
              "\n",
              "       county_income  comp_income         pov       urate     college  \n",
              "count     368.000000   368.000000  368.000000  368.000000  368.000000  \n",
              "mean    52516.312500     0.891054   21.112500    0.116179    0.220976  \n",
              "std     12757.946292     0.308241   13.047353    0.067036    0.155655  \n",
              "min     22545.000000     0.184049    1.500000    0.011335    0.013547  \n",
              "25%     43919.500000     0.644579   10.900000    0.069163    0.110242  \n",
              "50%     50877.000000     0.871602   18.400000    0.104946    0.170703  \n",
              "75%     56853.000000     1.073158   28.225000    0.140160    0.284620  \n",
              "max    110292.000000     1.821138   79.200000    0.448075    0.828070  "
            ],
            "text/html": [
              "\n",
              "  <div id=\"df-56ca5269-8f96-4682-a021-0939f703eeb5\">\n",
              "    <div class=\"colab-df-container\">\n",
              "      <div>\n",
              "<style scoped>\n",
              "    .dataframe tbody tr th:only-of-type {\n",
              "        vertical-align: middle;\n",
              "    }\n",
              "\n",
              "    .dataframe tbody tr th {\n",
              "        vertical-align: top;\n",
              "    }\n",
              "\n",
              "    .dataframe thead th {\n",
              "        text-align: right;\n",
              "    }\n",
              "</style>\n",
              "<table border=\"1\" class=\"dataframe\">\n",
              "  <thead>\n",
              "    <tr style=\"text-align: right;\">\n",
              "      <th></th>\n",
              "      <th>age</th>\n",
              "      <th>year</th>\n",
              "      <th>latitude</th>\n",
              "      <th>longitude</th>\n",
              "      <th>pop</th>\n",
              "      <th>share_white</th>\n",
              "      <th>share_black</th>\n",
              "      <th>share_hispanic</th>\n",
              "      <th>p_income</th>\n",
              "      <th>h_income</th>\n",
              "      <th>county_income</th>\n",
              "      <th>comp_income</th>\n",
              "      <th>pov</th>\n",
              "      <th>urate</th>\n",
              "      <th>college</th>\n",
              "    </tr>\n",
              "  </thead>\n",
              "  <tbody>\n",
              "    <tr>\n",
              "      <th>count</th>\n",
              "      <td>368.000000</td>\n",
              "      <td>368.0</td>\n",
              "      <td>368.000000</td>\n",
              "      <td>368.000000</td>\n",
              "      <td>368.000000</td>\n",
              "      <td>368.000000</td>\n",
              "      <td>368.000000</td>\n",
              "      <td>368.000000</td>\n",
              "      <td>368.000000</td>\n",
              "      <td>368.000000</td>\n",
              "      <td>368.000000</td>\n",
              "      <td>368.000000</td>\n",
              "      <td>368.000000</td>\n",
              "      <td>368.000000</td>\n",
              "      <td>368.000000</td>\n",
              "    </tr>\n",
              "    <tr>\n",
              "      <th>mean</th>\n",
              "      <td>37.190217</td>\n",
              "      <td>2015.0</td>\n",
              "      <td>36.302970</td>\n",
              "      <td>-97.839630</td>\n",
              "      <td>4852.945652</td>\n",
              "      <td>51.980163</td>\n",
              "      <td>16.848098</td>\n",
              "      <td>23.364130</td>\n",
              "      <td>24141.836957</td>\n",
              "      <td>46325.904891</td>\n",
              "      <td>52516.312500</td>\n",
              "      <td>0.891054</td>\n",
              "      <td>21.112500</td>\n",
              "      <td>0.116179</td>\n",
              "      <td>0.220976</td>\n",
              "    </tr>\n",
              "    <tr>\n",
              "      <th>std</th>\n",
              "      <td>12.804832</td>\n",
              "      <td>0.0</td>\n",
              "      <td>5.117327</td>\n",
              "      <td>16.715772</td>\n",
              "      <td>2453.085811</td>\n",
              "      <td>29.785929</td>\n",
              "      <td>23.796104</td>\n",
              "      <td>25.386595</td>\n",
              "      <td>8817.703665</td>\n",
              "      <td>19225.733600</td>\n",
              "      <td>12757.946292</td>\n",
              "      <td>0.308241</td>\n",
              "      <td>13.047353</td>\n",
              "      <td>0.067036</td>\n",
              "      <td>0.155655</td>\n",
              "    </tr>\n",
              "    <tr>\n",
              "      <th>min</th>\n",
              "      <td>16.000000</td>\n",
              "      <td>2015.0</td>\n",
              "      <td>19.915194</td>\n",
              "      <td>-159.642700</td>\n",
              "      <td>678.000000</td>\n",
              "      <td>0.000000</td>\n",
              "      <td>0.000000</td>\n",
              "      <td>0.000000</td>\n",
              "      <td>5457.000000</td>\n",
              "      <td>10290.000000</td>\n",
              "      <td>22545.000000</td>\n",
              "      <td>0.184049</td>\n",
              "      <td>1.500000</td>\n",
              "      <td>0.011335</td>\n",
              "      <td>0.013547</td>\n",
              "    </tr>\n",
              "    <tr>\n",
              "      <th>25%</th>\n",
              "      <td>28.000000</td>\n",
              "      <td>2015.0</td>\n",
              "      <td>33.354019</td>\n",
              "      <td>-112.201316</td>\n",
              "      <td>3402.000000</td>\n",
              "      <td>26.500000</td>\n",
              "      <td>1.400000</td>\n",
              "      <td>3.675000</td>\n",
              "      <td>18339.000000</td>\n",
              "      <td>32708.000000</td>\n",
              "      <td>43919.500000</td>\n",
              "      <td>0.644579</td>\n",
              "      <td>10.900000</td>\n",
              "      <td>0.069163</td>\n",
              "      <td>0.110242</td>\n",
              "    </tr>\n",
              "    <tr>\n",
              "      <th>50%</th>\n",
              "      <td>35.000000</td>\n",
              "      <td>2015.0</td>\n",
              "      <td>35.452811</td>\n",
              "      <td>-95.476101</td>\n",
              "      <td>4427.000000</td>\n",
              "      <td>56.650000</td>\n",
              "      <td>6.350000</td>\n",
              "      <td>13.200000</td>\n",
              "      <td>22167.500000</td>\n",
              "      <td>43336.000000</td>\n",
              "      <td>50877.000000</td>\n",
              "      <td>0.871602</td>\n",
              "      <td>18.400000</td>\n",
              "      <td>0.104946</td>\n",
              "      <td>0.170703</td>\n",
              "    </tr>\n",
              "    <tr>\n",
              "      <th>75%</th>\n",
              "      <td>45.000000</td>\n",
              "      <td>2015.0</td>\n",
              "      <td>39.797437</td>\n",
              "      <td>-83.241787</td>\n",
              "      <td>5866.250000</td>\n",
              "      <td>76.975000</td>\n",
              "      <td>22.475000</td>\n",
              "      <td>35.925000</td>\n",
              "      <td>28506.500000</td>\n",
              "      <td>56031.250000</td>\n",
              "      <td>56853.000000</td>\n",
              "      <td>1.073158</td>\n",
              "      <td>28.225000</td>\n",
              "      <td>0.140160</td>\n",
              "      <td>0.284620</td>\n",
              "    </tr>\n",
              "    <tr>\n",
              "      <th>max</th>\n",
              "      <td>83.000000</td>\n",
              "      <td>2015.0</td>\n",
              "      <td>61.218408</td>\n",
              "      <td>-68.100007</td>\n",
              "      <td>26826.000000</td>\n",
              "      <td>99.400000</td>\n",
              "      <td>99.400000</td>\n",
              "      <td>97.100000</td>\n",
              "      <td>86023.000000</td>\n",
              "      <td>138750.000000</td>\n",
              "      <td>110292.000000</td>\n",
              "      <td>1.821138</td>\n",
              "      <td>79.200000</td>\n",
              "      <td>0.448075</td>\n",
              "      <td>0.828070</td>\n",
              "    </tr>\n",
              "  </tbody>\n",
              "</table>\n",
              "</div>\n",
              "      <button class=\"colab-df-convert\" onclick=\"convertToInteractive('df-56ca5269-8f96-4682-a021-0939f703eeb5')\"\n",
              "              title=\"Convert this dataframe to an interactive table.\"\n",
              "              style=\"display:none;\">\n",
              "        \n",
              "  <svg xmlns=\"http://www.w3.org/2000/svg\" height=\"24px\"viewBox=\"0 0 24 24\"\n",
              "       width=\"24px\">\n",
              "    <path d=\"M0 0h24v24H0V0z\" fill=\"none\"/>\n",
              "    <path d=\"M18.56 5.44l.94 2.06.94-2.06 2.06-.94-2.06-.94-.94-2.06-.94 2.06-2.06.94zm-11 1L8.5 8.5l.94-2.06 2.06-.94-2.06-.94L8.5 2.5l-.94 2.06-2.06.94zm10 10l.94 2.06.94-2.06 2.06-.94-2.06-.94-.94-2.06-.94 2.06-2.06.94z\"/><path d=\"M17.41 7.96l-1.37-1.37c-.4-.4-.92-.59-1.43-.59-.52 0-1.04.2-1.43.59L10.3 9.45l-7.72 7.72c-.78.78-.78 2.05 0 2.83L4 21.41c.39.39.9.59 1.41.59.51 0 1.02-.2 1.41-.59l7.78-7.78 2.81-2.81c.8-.78.8-2.07 0-2.86zM5.41 20L4 18.59l7.72-7.72 1.47 1.35L5.41 20z\"/>\n",
              "  </svg>\n",
              "      </button>\n",
              "      \n",
              "  <style>\n",
              "    .colab-df-container {\n",
              "      display:flex;\n",
              "      flex-wrap:wrap;\n",
              "      gap: 12px;\n",
              "    }\n",
              "\n",
              "    .colab-df-convert {\n",
              "      background-color: #E8F0FE;\n",
              "      border: none;\n",
              "      border-radius: 50%;\n",
              "      cursor: pointer;\n",
              "      display: none;\n",
              "      fill: #1967D2;\n",
              "      height: 32px;\n",
              "      padding: 0 0 0 0;\n",
              "      width: 32px;\n",
              "    }\n",
              "\n",
              "    .colab-df-convert:hover {\n",
              "      background-color: #E2EBFA;\n",
              "      box-shadow: 0px 1px 2px rgba(60, 64, 67, 0.3), 0px 1px 3px 1px rgba(60, 64, 67, 0.15);\n",
              "      fill: #174EA6;\n",
              "    }\n",
              "\n",
              "    [theme=dark] .colab-df-convert {\n",
              "      background-color: #3B4455;\n",
              "      fill: #D2E3FC;\n",
              "    }\n",
              "\n",
              "    [theme=dark] .colab-df-convert:hover {\n",
              "      background-color: #434B5C;\n",
              "      box-shadow: 0px 1px 3px 1px rgba(0, 0, 0, 0.15);\n",
              "      filter: drop-shadow(0px 1px 2px rgba(0, 0, 0, 0.3));\n",
              "      fill: #FFFFFF;\n",
              "    }\n",
              "  </style>\n",
              "\n",
              "      <script>\n",
              "        const buttonEl =\n",
              "          document.querySelector('#df-56ca5269-8f96-4682-a021-0939f703eeb5 button.colab-df-convert');\n",
              "        buttonEl.style.display =\n",
              "          google.colab.kernel.accessAllowed ? 'block' : 'none';\n",
              "\n",
              "        async function convertToInteractive(key) {\n",
              "          const element = document.querySelector('#df-56ca5269-8f96-4682-a021-0939f703eeb5');\n",
              "          const dataTable =\n",
              "            await google.colab.kernel.invokeFunction('convertToInteractive',\n",
              "                                                     [key], {});\n",
              "          if (!dataTable) return;\n",
              "\n",
              "          const docLinkHtml = 'Like what you see? Visit the ' +\n",
              "            '<a target=\"_blank\" href=https://colab.research.google.com/notebooks/data_table.ipynb>data table notebook</a>'\n",
              "            + ' to learn more about interactive tables.';\n",
              "          element.innerHTML = '';\n",
              "          dataTable['output_type'] = 'display_data';\n",
              "          await google.colab.output.renderOutput(dataTable, element);\n",
              "          const docLink = document.createElement('div');\n",
              "          docLink.innerHTML = docLinkHtml;\n",
              "          element.appendChild(docLink);\n",
              "        }\n",
              "      </script>\n",
              "    </div>\n",
              "  </div>\n",
              "  "
            ]
          },
          "metadata": {},
          "execution_count": 42
        }
      ]
    },
    {
      "cell_type": "code",
      "source": [
        "police_num= police_ml_copy[[\"age\",\"year\",\"latitude\",\"longitude\", \"pop\",\"share_white\", \"share_black\", \"share_hispanic\" , \"p_income\",\"h_income\",\"county_income\", \"comp_income\", \"pov\",\"urate\",\"college\"]]\n",
        "\n",
        "num_attribs=list(police_num)\n",
        "print(num_attribs)\n",
        "                           "
      ],
      "metadata": {
        "colab": {
          "base_uri": "https://localhost:8080/"
        },
        "id": "l54H8KWzZdmo",
        "outputId": "dd35af41-75ef-47a0-9f01-9e2cd0a33ddb"
      },
      "execution_count": null,
      "outputs": [
        {
          "output_type": "stream",
          "name": "stdout",
          "text": [
            "['age', 'year', 'latitude', 'longitude', 'pop', 'share_white', 'share_black', 'share_hispanic', 'p_income', 'h_income', 'county_income', 'comp_income', 'pov', 'urate', 'college']\n"
          ]
        }
      ]
    },
    {
      "cell_type": "markdown",
      "source": [
        "Initialise the numerical pipeline"
      ],
      "metadata": {
        "id": "ZDFa1Aju4ekg"
      }
    },
    {
      "cell_type": "code",
      "source": [
        "from sklearn.pipeline import Pipeline\n",
        "from sklearn.preprocessing import StandardScaler\n",
        "from sklearn.impute import SimpleImputer\n",
        "\n",
        "\n",
        "num_pipeline = Pipeline([\n",
        "        ('imputer', SimpleImputer(strategy=\"median\")), \n",
        "        ('std_scaler', StandardScaler()),              \n",
        "    ])\n",
        "\n",
        "police_num_tr = num_pipeline.fit_transform(police_num)\n"
      ],
      "metadata": {
        "id": "lIpAYfYfYXbQ"
      },
      "execution_count": null,
      "outputs": []
    },
    {
      "cell_type": "code",
      "source": [
        "police_num_tr"
      ],
      "metadata": {
        "colab": {
          "base_uri": "https://localhost:8080/"
        },
        "id": "L3ZfOOXBaZjH",
        "outputId": "262c8279-84fb-40b3-d395-dfd6283921a8"
      },
      "execution_count": null,
      "outputs": [
        {
          "output_type": "execute_result",
          "data": {
            "text/plain": [
              "array([[-0.95329749,  0.        ,  1.19031384, ...,  1.93309651,\n",
              "         2.11945681, -0.99966427],\n",
              "       [ 1.31455601,  0.        ,  1.94400917, ...,  1.13491473,\n",
              "         0.23249786, -1.05323893],\n",
              "       [ 0.37613387,  0.        , -0.03558742, ...,  0.98909306,\n",
              "        -0.74319381,  0.40893703],\n",
              "       ...,\n",
              "       [-0.95329749,  0.        , -0.56018448, ..., -0.0470083 ,\n",
              "        -0.84256226,  1.91113625],\n",
              "       [-0.24948088,  0.        , -0.29318176, ..., -0.3847006 ,\n",
              "        -0.28843976, -0.61370454],\n",
              "       [-0.24948088,  0.        ,  0.55441697, ...,  1.85634827,\n",
              "         2.12702896, -1.18687167]])"
            ]
          },
          "metadata": {},
          "execution_count": 45
        }
      ]
    },
    {
      "cell_type": "markdown",
      "source": [
        "Initialise the full pipeline -> don't include the less useful categorical variables"
      ],
      "metadata": {
        "id": "89QVakTVV8mt"
      }
    },
    {
      "cell_type": "code",
      "source": [
        "from sklearn.compose import ColumnTransformer\n",
        "from sklearn.preprocessing import OneHotEncoder\n",
        "\n",
        "cat_attribs = ['gender', 'raceethnicity', 'month', 'cause', 'armed']\n",
        "\n",
        "print(cat_attribs)\n",
        "\n",
        "full_pipeline = ColumnTransformer([\n",
        "        (\"num\", num_pipeline, num_attribs),\n",
        "        (\"cat\", OneHotEncoder(), cat_attribs),\n",
        "    ])\n",
        "\n",
        "police_prepared = full_pipeline.fit_transform(police_ml_copy)"
      ],
      "metadata": {
        "colab": {
          "base_uri": "https://localhost:8080/"
        },
        "id": "WYSft1gyaZws",
        "outputId": "d69611c4-9370-460d-8bbe-b4175f0622fa"
      },
      "execution_count": null,
      "outputs": [
        {
          "output_type": "stream",
          "name": "stdout",
          "text": [
            "['gender', 'raceethnicity', 'month', 'cause', 'armed']\n"
          ]
        }
      ]
    },
    {
      "cell_type": "code",
      "source": [
        "cat_encoder = OneHotEncoder()\n",
        "police_cat=police_ml_copy[['gender', 'raceethnicity', 'month', 'cause', 'armed']]\n",
        "\n",
        "cat_encoder = OneHotEncoder()\n",
        "police_cat_1hot = cat_encoder.fit_transform(police_cat)\n"
      ],
      "metadata": {
        "id": "iARFZDyeaaAU"
      },
      "execution_count": null,
      "outputs": []
    },
    {
      "cell_type": "code",
      "source": [
        "police_labels"
      ],
      "metadata": {
        "colab": {
          "base_uri": "https://localhost:8080/"
        },
        "id": "TqzzO06zbFZJ",
        "outputId": "becb31ba-a31d-42a9-f6f4-1849cbbb53a9"
      },
      "execution_count": null,
      "outputs": [
        {
          "output_type": "execute_result",
          "data": {
            "text/plain": [
              "69     1\n",
              "396    0\n",
              "365    1\n",
              "322    0\n",
              "16     1\n",
              "      ..\n",
              "393    1\n",
              "85     1\n",
              "319    1\n",
              "183    0\n",
              "366    1\n",
              "Name: is_armed, Length: 368, dtype: int64"
            ]
          },
          "metadata": {},
          "execution_count": 48
        }
      ]
    },
    {
      "cell_type": "code",
      "source": [
        "police_prepared"
      ],
      "metadata": {
        "colab": {
          "base_uri": "https://localhost:8080/"
        },
        "id": "mNPLHWSwbFl3",
        "outputId": "57e5c010-c8cf-43e6-fccb-6b8498be11b9"
      },
      "execution_count": null,
      "outputs": [
        {
          "output_type": "execute_result",
          "data": {
            "text/plain": [
              "array([[-0.95329749,  0.        ,  1.19031384, ...,  0.        ,\n",
              "         0.        ,  0.        ],\n",
              "       [ 1.31455601,  0.        ,  1.94400917, ...,  0.        ,\n",
              "         0.        ,  0.        ],\n",
              "       [ 0.37613387,  0.        , -0.03558742, ...,  0.        ,\n",
              "         0.        ,  0.        ],\n",
              "       ...,\n",
              "       [-0.95329749,  0.        , -0.56018448, ...,  0.        ,\n",
              "         0.        ,  0.        ],\n",
              "       [-0.24948088,  0.        , -0.29318176, ...,  0.        ,\n",
              "         0.        ,  0.        ],\n",
              "       [-0.24948088,  0.        ,  0.55441697, ...,  0.        ,\n",
              "         0.        ,  0.        ]])"
            ]
          },
          "metadata": {},
          "execution_count": 49
        }
      ]
    },
    {
      "cell_type": "markdown",
      "source": [
        "Number of features: When we included all columns we had 694 features, this was excessive and caused issues in the final predictions of the ML Models"
      ],
      "metadata": {
        "id": "BLuIqAfn40L8"
      }
    },
    {
      "cell_type": "code",
      "source": [
        "len(police_prepared[0])"
      ],
      "metadata": {
        "colab": {
          "base_uri": "https://localhost:8080/"
        },
        "id": "_rGHCcMMbF46",
        "outputId": "05c97684-4409-4da0-8a14-bc12b85a553c"
      },
      "execution_count": null,
      "outputs": [
        {
          "output_type": "execute_result",
          "data": {
            "text/plain": [
              "42"
            ]
          },
          "metadata": {},
          "execution_count": 50
        }
      ]
    },
    {
      "cell_type": "code",
      "source": [
        "from sklearn.linear_model import LinearRegression\n",
        "\n",
        "\n",
        "lin_reg = LinearRegression()\n",
        "lin_reg.fit(police_prepared, police_labels)"
      ],
      "metadata": {
        "colab": {
          "base_uri": "https://localhost:8080/"
        },
        "id": "oZN-7BaqbGDl",
        "outputId": "165a788f-17d8-4e63-faa5-3e8f8e3a6405"
      },
      "execution_count": null,
      "outputs": [
        {
          "output_type": "execute_result",
          "data": {
            "text/plain": [
              "LinearRegression()"
            ]
          },
          "metadata": {},
          "execution_count": 51
        }
      ]
    },
    {
      "cell_type": "code",
      "source": [
        "some_data = police_ml_copy.iloc[:5]\n",
        "some_labels = police_labels.iloc[:5]\n",
        "some_data_prepared = full_pipeline.transform(some_data)\n",
        "\n",
        "print(\"Predictions:\", lin_reg.predict(some_data_prepared))"
      ],
      "metadata": {
        "colab": {
          "base_uri": "https://localhost:8080/"
        },
        "id": "B0gEZdlGcdVC",
        "outputId": "b6dbf88f-9f79-44f5-8fed-85c5b711b81e"
      },
      "execution_count": null,
      "outputs": [
        {
          "output_type": "stream",
          "name": "stdout",
          "text": [
            "Predictions: [0.86452957 0.6033517  0.73111603 0.53333754 1.09021216]\n"
          ]
        }
      ]
    },
    {
      "cell_type": "code",
      "source": [
        "print(\"Labels:\", list(some_labels))"
      ],
      "metadata": {
        "colab": {
          "base_uri": "https://localhost:8080/"
        },
        "id": "ffYtRYvocdg_",
        "outputId": "56d8d414-c834-4347-ebb0-e84949602972"
      },
      "execution_count": null,
      "outputs": [
        {
          "output_type": "stream",
          "name": "stdout",
          "text": [
            "Labels: [1, 0, 1, 0, 1]\n"
          ]
        }
      ]
    },
    {
      "cell_type": "code",
      "source": [
        "import numpy as np\n",
        "from sklearn.metrics import mean_squared_error\n",
        "\n",
        "police_predictions = lin_reg.predict(police_prepared)\n",
        "\n",
        "\n",
        "lin_mse = mean_squared_error(police_labels, police_predictions)\n",
        "\n",
        "lin_rmse = np.sqrt(lin_mse)\n",
        "print(\"lin_rmse:\", lin_rmse)\n",
        "\n",
        "from sklearn.metrics import mean_absolute_error\n",
        "\n",
        "lin_mae = mean_absolute_error(police_labels, police_predictions)\n",
        "print(\"lin_mae:\", lin_mae)"
      ],
      "metadata": {
        "colab": {
          "base_uri": "https://localhost:8080/"
        },
        "id": "m0SxRSZVcdrv",
        "outputId": "f574583b-7cd8-4a92-ef51-d2f1b387aab3"
      },
      "execution_count": null,
      "outputs": [
        {
          "output_type": "stream",
          "name": "stdout",
          "text": [
            "lin_rmse: 0.37889301743314047\n",
            "lin_mae: 0.29894267767978866\n"
          ]
        }
      ]
    },
    {
      "cell_type": "markdown",
      "source": [
        "Appears to be a good prediction. We will need to perform CV to confirm this."
      ],
      "metadata": {
        "id": "zM1DT511h7Sc"
      }
    },
    {
      "cell_type": "code",
      "source": [
        "from sklearn.tree import DecisionTreeRegressor\n",
        "\n",
        "tree_reg = DecisionTreeRegressor(random_state=42)\n",
        "tree_reg.fit(police_prepared, police_labels)"
      ],
      "metadata": {
        "colab": {
          "base_uri": "https://localhost:8080/"
        },
        "id": "4tzOrn6Zc05b",
        "outputId": "da69eb82-da1f-47fe-887c-9edc82e45539"
      },
      "execution_count": null,
      "outputs": [
        {
          "output_type": "execute_result",
          "data": {
            "text/plain": [
              "DecisionTreeRegressor(random_state=42)"
            ]
          },
          "metadata": {},
          "execution_count": 55
        }
      ]
    },
    {
      "cell_type": "code",
      "source": [
        "police_predictions = tree_reg.predict(police_prepared)\n",
        "tree_mse = mean_squared_error(police_labels, police_predictions)\n",
        "tree_rmse = np.sqrt(tree_mse)\n",
        "tree_rmse"
      ],
      "metadata": {
        "colab": {
          "base_uri": "https://localhost:8080/"
        },
        "id": "bbR7IlRTc1F2",
        "outputId": "d6445fcf-3114-43b4-a43b-32d2ef590366"
      },
      "execution_count": null,
      "outputs": [
        {
          "output_type": "execute_result",
          "data": {
            "text/plain": [
              "0.0"
            ]
          },
          "metadata": {},
          "execution_count": 56
        }
      ]
    },
    {
      "cell_type": "markdown",
      "source": [
        "Overfitting likely in this case"
      ],
      "metadata": {
        "id": "gZfUBCpw5K4L"
      }
    },
    {
      "cell_type": "code",
      "source": [
        "from sklearn.model_selection import cross_val_score\n",
        "scores = cross_val_score(tree_reg, police_prepared, police_labels, \n",
        "                        scoring=\"neg_mean_squared_error\", cv=10)\n",
        "tree_rmse_scores = np.sqrt(-scores)\n",
        "\n",
        "def display_scores(scores):\n",
        "    print(\"Scores:\", scores)\n",
        "    print(\"Mean:\", scores.mean())\n",
        "    print(\"Standard deviation:\", scores.std())\n",
        "    \n",
        "display_scores(tree_rmse_scores)"
      ],
      "metadata": {
        "colab": {
          "base_uri": "https://localhost:8080/"
        },
        "id": "023AjStic1ZY",
        "outputId": "9ee6d3f5-2376-4d44-a960-1a7b7ddcf9a7"
      },
      "execution_count": null,
      "outputs": [
        {
          "output_type": "stream",
          "name": "stdout",
          "text": [
            "Scores: [0.5694948  0.61512469 0.51987524 0.51987524 0.46499055 0.46499055\n",
            " 0.61512469 0.63671454 0.60092521 0.60092521]\n",
            "Mean: 0.5608040732802294\n",
            "Standard deviation: 0.06055542552464879\n"
          ]
        }
      ]
    },
    {
      "cell_type": "code",
      "source": [
        "lin_scores = cross_val_score(lin_reg, police_prepared, police_labels, \n",
        "                        scoring=\"neg_mean_squared_error\", cv=10)\n",
        "lin_rmse_scores = np.sqrt(-lin_scores)\n",
        "\n",
        "display_scores(lin_rmse_scores)"
      ],
      "metadata": {
        "colab": {
          "base_uri": "https://localhost:8080/"
        },
        "id": "y6PhKEN6dJnb",
        "outputId": "313563c8-6d92-4b2d-eca1-dc84fa8a5a8e"
      },
      "execution_count": null,
      "outputs": [
        {
          "output_type": "stream",
          "name": "stdout",
          "text": [
            "Scores: [0.42204617 0.42466208 0.34134825 0.42484758 0.51760427 0.33672683\n",
            " 0.47479936 0.50866651 0.49121457 0.4099379 ]\n",
            "Mean: 0.43518535038172673\n",
            "Standard deviation: 0.060355665927897977\n"
          ]
        }
      ]
    },
    {
      "cell_type": "code",
      "source": [
        "from sklearn.ensemble import RandomForestRegressor\n",
        "\n",
        "forest_reg = RandomForestRegressor(n_estimators=10, random_state=42)\n",
        "forest_reg.fit(police_prepared, police_labels)\n",
        "police_predictions = forest_reg.predict(police_prepared)\n",
        "forest_mse = mean_squared_error(police_labels, police_predictions)\n",
        "forest_rmse = np.sqrt(forest_mse)\n",
        "forest_rmse"
      ],
      "metadata": {
        "colab": {
          "base_uri": "https://localhost:8080/"
        },
        "id": "G_DU362PdKDB",
        "outputId": "94c9a712-4c91-4087-9eb5-faa51bec81fc"
      },
      "execution_count": null,
      "outputs": [
        {
          "output_type": "execute_result",
          "data": {
            "text/plain": [
              "0.19280537607514542"
            ]
          },
          "metadata": {},
          "execution_count": 59
        }
      ]
    },
    {
      "cell_type": "code",
      "source": [
        "forest_scores = cross_val_score(forest_reg, police_prepared, police_labels,\n",
        "                                scoring=\"neg_mean_squared_error\", cv=10)\n",
        "forest_rmse_scores = np.sqrt(-forest_scores)\n",
        "display_scores(forest_rmse_scores)"
      ],
      "metadata": {
        "colab": {
          "base_uri": "https://localhost:8080/"
        },
        "id": "lss3eTdWdK2G",
        "outputId": "d182b1b5-cd66-4092-eb0b-a66d675ebd78"
      },
      "execution_count": null,
      "outputs": [
        {
          "output_type": "stream",
          "name": "stdout",
          "text": [
            "Scores: [0.46031716 0.45678074 0.37126519 0.41099747 0.4871317  0.33206968\n",
            " 0.50430578 0.56448972 0.50853821 0.43969687]\n",
            "Mean: 0.4535592527782487\n",
            "Standard deviation: 0.065285775230634\n"
          ]
        }
      ]
    },
    {
      "cell_type": "markdown",
      "source": [
        "Linear and Random Forest Regression have the best results from the 10 fold CV. We will fine tune RF as we will have control of the parameters."
      ],
      "metadata": {
        "id": "GYpKzVKCipFJ"
      }
    },
    {
      "cell_type": "code",
      "source": [
        "#gridsearch 1\n",
        "from sklearn.model_selection import GridSearchCV\n",
        "\n",
        "param_grid = [\n",
        "    {'n_estimators': [5, 10, 30], 'max_features': [2, 4, 6, 8]},\n",
        "    {'bootstrap': [False], 'n_estimators': [3, 10], 'max_features': [2, 3, 4]},\n",
        "  ]\n",
        "\n",
        "forest_reg = RandomForestRegressor(random_state=42)\n",
        " \n",
        "grid_search_1 = GridSearchCV(forest_reg, param_grid, cv=5,\n",
        "                           scoring='neg_mean_squared_error', return_train_score=True)\n",
        "grid_search_1.fit(police_prepared, police_labels)"
      ],
      "metadata": {
        "colab": {
          "base_uri": "https://localhost:8080/"
        },
        "id": "BgATMSgXdLOm",
        "outputId": "74daadd0-c8a7-4a46-d2d3-3b993782f3c7"
      },
      "execution_count": null,
      "outputs": [
        {
          "output_type": "execute_result",
          "data": {
            "text/plain": [
              "GridSearchCV(cv=5, estimator=RandomForestRegressor(random_state=42),\n",
              "             param_grid=[{'max_features': [2, 4, 6, 8],\n",
              "                          'n_estimators': [5, 10, 30]},\n",
              "                         {'bootstrap': [False], 'max_features': [2, 3, 4],\n",
              "                          'n_estimators': [3, 10]}],\n",
              "             return_train_score=True, scoring='neg_mean_squared_error')"
            ]
          },
          "metadata": {},
          "execution_count": 61
        }
      ]
    },
    {
      "cell_type": "code",
      "source": [
        "grid_search_1.best_estimator_"
      ],
      "metadata": {
        "colab": {
          "base_uri": "https://localhost:8080/"
        },
        "id": "kMsJV3hwgOSS",
        "outputId": "a6def6ba-1d09-4f38-c883-0acd5098b81e"
      },
      "execution_count": null,
      "outputs": [
        {
          "output_type": "execute_result",
          "data": {
            "text/plain": [
              "RandomForestRegressor(max_features=4, n_estimators=30, random_state=42)"
            ]
          },
          "metadata": {},
          "execution_count": 62
        }
      ]
    },
    {
      "cell_type": "code",
      "source": [
        "grid_search_1.best_params_"
      ],
      "metadata": {
        "colab": {
          "base_uri": "https://localhost:8080/"
        },
        "id": "tqLvFKlOgO-B",
        "outputId": "dd8795dd-895a-4914-b0dc-f499c8845a65"
      },
      "execution_count": null,
      "outputs": [
        {
          "output_type": "execute_result",
          "data": {
            "text/plain": [
              "{'max_features': 4, 'n_estimators': 30}"
            ]
          },
          "metadata": {},
          "execution_count": 63
        }
      ]
    },
    {
      "cell_type": "code",
      "source": [
        "cvres = grid_search_1.cv_results_\n",
        "for mean_score, params in zip(cvres[\"mean_test_score\"], cvres[\"params\"]):\n",
        "    print(np.sqrt(-mean_score), params)"
      ],
      "metadata": {
        "colab": {
          "base_uri": "https://localhost:8080/"
        },
        "id": "1gj0Z6V7gG0Y",
        "outputId": "3b4171e4-3c2b-4f7d-c435-3ca8cba6c52d"
      },
      "execution_count": null,
      "outputs": [
        {
          "output_type": "stream",
          "name": "stdout",
          "text": [
            "0.4623299491256984 {'max_features': 2, 'n_estimators': 5}\n",
            "0.4443603575480569 {'max_features': 2, 'n_estimators': 10}\n",
            "0.42672039531199735 {'max_features': 2, 'n_estimators': 30}\n",
            "0.47224169415369205 {'max_features': 4, 'n_estimators': 5}\n",
            "0.4434182793428648 {'max_features': 4, 'n_estimators': 10}\n",
            "0.4211568743815851 {'max_features': 4, 'n_estimators': 30}\n",
            "0.47518814839926177 {'max_features': 6, 'n_estimators': 5}\n",
            "0.45705583578303066 {'max_features': 6, 'n_estimators': 10}\n",
            "0.4359252362889207 {'max_features': 6, 'n_estimators': 30}\n",
            "0.4568099226619632 {'max_features': 8, 'n_estimators': 5}\n",
            "0.4410998169355269 {'max_features': 8, 'n_estimators': 10}\n",
            "0.431308314873383 {'max_features': 8, 'n_estimators': 30}\n",
            "0.4876145043896793 {'bootstrap': False, 'max_features': 2, 'n_estimators': 3}\n",
            "0.4491833059617014 {'bootstrap': False, 'max_features': 2, 'n_estimators': 10}\n",
            "0.5110124621535195 {'bootstrap': False, 'max_features': 3, 'n_estimators': 3}\n",
            "0.45702464820106786 {'bootstrap': False, 'max_features': 3, 'n_estimators': 10}\n",
            "0.4999115475671746 {'bootstrap': False, 'max_features': 4, 'n_estimators': 3}\n",
            "0.4427757352448129 {'bootstrap': False, 'max_features': 4, 'n_estimators': 10}\n"
          ]
        }
      ]
    },
    {
      "cell_type": "markdown",
      "source": [
        "Results indicate that we need to increase the maxmimum n_estimators"
      ],
      "metadata": {
        "id": "y1lFA_f6W27S"
      }
    },
    {
      "cell_type": "code",
      "source": [
        "#grid_search2\n",
        "from sklearn.model_selection import GridSearchCV\n",
        "\n",
        "param_grid = [\n",
        "    {'n_estimators': [20, 30, 40], 'max_features': [2, 4, 6, 8]},\n",
        "    {'bootstrap': [False], 'n_estimators': [20, 30], 'max_features': [2, 4, 8]},\n",
        "  ]\n",
        "\n",
        "forest_reg = RandomForestRegressor(random_state=42)\n",
        " \n",
        "grid_search2 = GridSearchCV(forest_reg, param_grid, cv=5,\n",
        "                           scoring='neg_mean_squared_error', return_train_score=True)\n",
        "grid_search2.fit(police_prepared, police_labels)"
      ],
      "metadata": {
        "colab": {
          "base_uri": "https://localhost:8080/"
        },
        "id": "zNadw0sIePCx",
        "outputId": "9a051595-1863-49f7-aa22-5d32bc88c166"
      },
      "execution_count": null,
      "outputs": [
        {
          "output_type": "execute_result",
          "data": {
            "text/plain": [
              "GridSearchCV(cv=5, estimator=RandomForestRegressor(random_state=42),\n",
              "             param_grid=[{'max_features': [2, 4, 6, 8],\n",
              "                          'n_estimators': [20, 30, 40]},\n",
              "                         {'bootstrap': [False], 'max_features': [2, 4, 8],\n",
              "                          'n_estimators': [20, 30]}],\n",
              "             return_train_score=True, scoring='neg_mean_squared_error')"
            ]
          },
          "metadata": {},
          "execution_count": 65
        }
      ]
    },
    {
      "cell_type": "code",
      "source": [
        "grid_search2.best_params_"
      ],
      "metadata": {
        "colab": {
          "base_uri": "https://localhost:8080/"
        },
        "id": "SBcViRFXdLe_",
        "outputId": "3c384afd-428f-483d-e64a-213770d6b6c3"
      },
      "execution_count": null,
      "outputs": [
        {
          "output_type": "execute_result",
          "data": {
            "text/plain": [
              "{'max_features': 4, 'n_estimators': 30}"
            ]
          },
          "metadata": {},
          "execution_count": 66
        }
      ]
    },
    {
      "cell_type": "code",
      "source": [
        "grid_search2.best_estimator_"
      ],
      "metadata": {
        "colab": {
          "base_uri": "https://localhost:8080/"
        },
        "id": "FufsNyZ0eHPw",
        "outputId": "8c6970f4-f124-4836-c81e-c8c2e232aa5f"
      },
      "execution_count": null,
      "outputs": [
        {
          "output_type": "execute_result",
          "data": {
            "text/plain": [
              "RandomForestRegressor(max_features=4, n_estimators=30, random_state=42)"
            ]
          },
          "metadata": {},
          "execution_count": 67
        }
      ]
    },
    {
      "cell_type": "code",
      "source": [
        "cvres = grid_search2.cv_results_\n",
        "for mean_score, params in zip(cvres[\"mean_test_score\"], cvres[\"params\"]):\n",
        "    print(np.sqrt(-mean_score), params)"
      ],
      "metadata": {
        "colab": {
          "base_uri": "https://localhost:8080/"
        },
        "id": "ey6l_Fisgofs",
        "outputId": "3694f2a3-7254-4524-f27f-9d2b5606460f"
      },
      "execution_count": null,
      "outputs": [
        {
          "output_type": "stream",
          "name": "stdout",
          "text": [
            "0.4328415577817246 {'max_features': 2, 'n_estimators': 20}\n",
            "0.42672039531199735 {'max_features': 2, 'n_estimators': 30}\n",
            "0.4267044192666578 {'max_features': 2, 'n_estimators': 40}\n",
            "0.42516423204833953 {'max_features': 4, 'n_estimators': 20}\n",
            "0.4211568743815851 {'max_features': 4, 'n_estimators': 30}\n",
            "0.4234138574794932 {'max_features': 4, 'n_estimators': 40}\n",
            "0.443263368575354 {'max_features': 6, 'n_estimators': 20}\n",
            "0.4359252362889207 {'max_features': 6, 'n_estimators': 30}\n",
            "0.43052235735803157 {'max_features': 6, 'n_estimators': 40}\n",
            "0.4335305325986833 {'max_features': 8, 'n_estimators': 20}\n",
            "0.431308314873383 {'max_features': 8, 'n_estimators': 30}\n",
            "0.431063847191369 {'max_features': 8, 'n_estimators': 40}\n",
            "0.4403287326730735 {'bootstrap': False, 'max_features': 2, 'n_estimators': 20}\n",
            "0.43561059698846516 {'bootstrap': False, 'max_features': 2, 'n_estimators': 30}\n",
            "0.4278015444358466 {'bootstrap': False, 'max_features': 4, 'n_estimators': 20}\n",
            "0.4275699666140303 {'bootstrap': False, 'max_features': 4, 'n_estimators': 30}\n",
            "0.4435954626331465 {'bootstrap': False, 'max_features': 8, 'n_estimators': 20}\n",
            "0.4399374298721086 {'bootstrap': False, 'max_features': 8, 'n_estimators': 30}\n"
          ]
        }
      ]
    },
    {
      "cell_type": "markdown",
      "source": [
        "Second trial confirms to us that the best parameters are max_features = 4 and n_estimators = 30"
      ],
      "metadata": {
        "id": "Fj7Eo0qAXJ-p"
      }
    },
    {
      "cell_type": "code",
      "source": [
        "feature_importances = grid_search2.best_estimator_.feature_importances_\n",
        "feature_importances"
      ],
      "metadata": {
        "colab": {
          "base_uri": "https://localhost:8080/"
        },
        "id": "Slm364uUevVG",
        "outputId": "c84fba21-d314-4b49-9619-662cbd159954"
      },
      "execution_count": null,
      "outputs": [
        {
          "output_type": "execute_result",
          "data": {
            "text/plain": [
              "array([0.04333484, 0.        , 0.05923297, 0.05772438, 0.0709577 ,\n",
              "       0.06110503, 0.05331674, 0.05543026, 0.07258074, 0.05592403,\n",
              "       0.06108211, 0.05704788, 0.06051095, 0.06436054, 0.06022052,\n",
              "       0.00250059, 0.00156522, 0.00814923, 0.01571836, 0.00949198,\n",
              "       0.00134968, 0.0020816 , 0.00846532, 0.01222063, 0.01099633,\n",
              "       0.00550913, 0.        , 0.00947845, 0.00657595, 0.00477971,\n",
              "       0.00803615, 0.0014143 , 0.00423016, 0.00150524, 0.00623569,\n",
              "       0.01283907, 0.01149338, 0.00591819, 0.00350317, 0.00589406,\n",
              "       0.00107238, 0.00614733])"
            ]
          },
          "metadata": {},
          "execution_count": 69
        }
      ]
    },
    {
      "cell_type": "code",
      "source": [
        "catencoder = full_pipeline.named_transformers_[\"cat\"]\n",
        "cat_one_hot_attribs = list(catencoder.categories_[0]) + list(catencoder.categories[1]) + list(catencoder.categories[2]) + list(catencoder.categories[3])\n",
        "attributes = num_attribs + cat_one_hot_attribs\n",
        "sorted(zip(feature_importances, attributes), reverse=True)"
      ],
      "metadata": {
        "colab": {
          "base_uri": "https://localhost:8080/"
        },
        "id": "xQjFPurziuuw",
        "outputId": "52de523a-964d-452a-c685-b65e2812458d"
      },
      "execution_count": null,
      "outputs": [
        {
          "output_type": "execute_result",
          "data": {
            "text/plain": [
              "[(0.07258074223253226, 'p_income'),\n",
              " (0.07095770234826665, 'pop'),\n",
              " (0.06436054059542781, 'urate'),\n",
              " (0.06110503407647296, 'share_white'),\n",
              " (0.061082112705526694, 'county_income'),\n",
              " (0.060510952872888865, 'pov'),\n",
              " (0.06022052157130164, 'college'),\n",
              " (0.05923297266511199, 'latitude'),\n",
              " (0.05772437611099794, 'longitude'),\n",
              " (0.057047875066928086, 'comp_income'),\n",
              " (0.055924028436040225, 'h_income'),\n",
              " (0.055430261107267335, 'share_hispanic'),\n",
              " (0.05331673520286823, 'share_black'),\n",
              " (0.043334843745080495, 'age'),\n",
              " (0.015718363649790186, 't'),\n",
              " (0.00949197587727048, 'o'),\n",
              " (0.008149230200414938, 'u'),\n",
              " (0.0025005933303212245, 'Female'),\n",
              " (0.0015652195666951115, 'Male'),\n",
              " (0.0, 'year')]"
            ]
          },
          "metadata": {},
          "execution_count": 70
        }
      ]
    },
    {
      "cell_type": "markdown",
      "source": [
        "## Final Predictions"
      ],
      "metadata": {
        "id": "vjNVHMvJ5qNP"
      }
    },
    {
      "cell_type": "code",
      "source": [
        "final_model = grid_search2.best_estimator_\n",
        "\n",
        "X_test = strat_test_set.drop(\"is_armed\", axis=1)\n",
        "y_test = strat_test_set[\"is_armed\"].copy()\n",
        "\n",
        "X_test_prepared = full_pipeline.transform(X_test)\n",
        "final_predictions = final_model.predict(X_test_prepared)\n",
        "\n",
        "final_mse = mean_squared_error(y_test, final_predictions)\n",
        "final_rmse = np.sqrt(final_mse)"
      ],
      "metadata": {
        "id": "F2gv3uP9r7TK"
      },
      "execution_count": null,
      "outputs": []
    },
    {
      "cell_type": "code",
      "source": [
        "final_rmse"
      ],
      "metadata": {
        "id": "suoA6uVqjA_i",
        "colab": {
          "base_uri": "https://localhost:8080/"
        },
        "outputId": "960c3975-7465-4400-bed3-611c98f209c5"
      },
      "execution_count": null,
      "outputs": [
        {
          "output_type": "execute_result",
          "data": {
            "text/plain": [
              "0.4454603085566689"
            ]
          },
          "metadata": {},
          "execution_count": 72
        }
      ]
    },
    {
      "cell_type": "markdown",
      "source": [
        "## ROC Curve"
      ],
      "metadata": {
        "id": "Eh3jSo6r56Ct"
      }
    },
    {
      "cell_type": "code",
      "source": [
        "from sklearn import metrics\n",
        "\n",
        "fpr, tpr, _ = metrics.roc_curve(y_test,  final_predictions)\n",
        "\n",
        "#create ROC curve\n",
        "plt.plot(fpr,tpr)\n",
        "plt.ylabel('True Positive Rate')\n",
        "plt.xlabel('False Positive Rate')\n",
        "plt.title(\"ROC curve of the Final Prediction\");\n",
        "plt.show()"
      ],
      "metadata": {
        "colab": {
          "base_uri": "https://localhost:8080/",
          "height": 295
        },
        "id": "TFn9jUMg57TO",
        "outputId": "b12fa838-bb08-470b-d576-230fc6637fb4"
      },
      "execution_count": null,
      "outputs": [
        {
          "output_type": "display_data",
          "data": {
            "text/plain": [
              "<Figure size 432x288 with 1 Axes>"
            ],
            "image/png": "[encoded data removed]"
          },
          "metadata": {
            "needs_background": "light"
          }
        }
      ]
    },
    {
      "cell_type": "markdown",
      "source": [
        "## Confusion Matrix"
      ],
      "metadata": {
        "id": "-HyrrH3D6Mdq"
      }
    },
    {
      "cell_type": "code",
      "source": [
        "from sklearn.metrics import confusion_matrix, classification_report\n",
        "y_pred = np.where(final_predictions>.5, 1, 0)\n",
        "\n",
        "print(classification_report(y_test, y_pred))"
      ],
      "metadata": {
        "colab": {
          "base_uri": "https://localhost:8080/"
        },
        "id": "B7zXxftl6Pza",
        "outputId": "7e05b7e5-7810-4ec5-d762-cb65f35e3069"
      },
      "execution_count": null,
      "outputs": [
        {
          "output_type": "stream",
          "name": "stdout",
          "text": [
            "              precision    recall  f1-score   support\n",
            "\n",
            "           0       0.20      0.05      0.07        22\n",
            "           1       0.76      0.94      0.84        71\n",
            "\n",
            "    accuracy                           0.73        93\n",
            "   macro avg       0.48      0.49      0.46        93\n",
            "weighted avg       0.63      0.73      0.66        93\n",
            "\n"
          ]
        }
      ]
    },
    {
      "cell_type": "markdown",
      "source": [
        "## Precision-Recall Curve"
      ],
      "metadata": {
        "id": "VD8-WdjD6U8n"
      }
    },
    {
      "cell_type": "code",
      "source": [
        "from sklearn.metrics import PrecisionRecallDisplay\n",
        "display = PrecisionRecallDisplay.from_predictions(y_test, y_pred, name=\"RandomForest\")\n",
        "_ = display.ax_.set_title(\"2-class Precision-Recall curve\")"
      ],
      "metadata": {
        "colab": {
          "base_uri": "https://localhost:8080/",
          "height": 295
        },
        "id": "ER2kz-Ei6S3z",
        "outputId": "1f2d7096-15f6-4a8f-ad9d-eaec63b7bd4c"
      },
      "execution_count": null,
      "outputs": [
        {
          "output_type": "display_data",
          "data": {
            "text/plain": [
              "<Figure size 432x288 with 1 Axes>"
            ],
            "image/png": "[encoded data removed]"
          },
          "metadata": {
            "needs_background": "light"
          }
        }
      ]
    }
  ]
}